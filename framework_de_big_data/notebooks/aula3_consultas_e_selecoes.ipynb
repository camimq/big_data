{
  "nbformat": 4,
  "nbformat_minor": 0,
  "metadata": {
    "colab": {
      "provenance": []
    },
    "kernelspec": {
      "name": "python3",
      "display_name": "Python 3"
    },
    "language_info": {
      "name": "python"
    }
  },
  "cells": [
    {
      "cell_type": "markdown",
      "source": [
        "# PySpark Spark SQL"
      ],
      "metadata": {
        "id": "HUPO36tuR3hp"
      }
    },
    {
      "cell_type": "markdown",
      "source": [
        "##### Instalando PySpark"
      ],
      "metadata": {
        "id": "rcLTGMbyRxDo"
      }
    },
    {
      "cell_type": "code",
      "execution_count": 1,
      "metadata": {
        "colab": {
          "base_uri": "https://localhost:8080/"
        },
        "id": "pmRrsqHORkYX",
        "outputId": "27530a90-55a3-4eb9-89a6-74f8e7aa5a14"
      },
      "outputs": [
        {
          "output_type": "stream",
          "name": "stdout",
          "text": [
            "Requirement already satisfied: pyspark in /usr/local/lib/python3.10/dist-packages (3.5.1)\n",
            "Requirement already satisfied: py4j==0.10.9.7 in /usr/local/lib/python3.10/dist-packages (from pyspark) (0.10.9.7)\n"
          ]
        }
      ],
      "source": [
        "!pip install pyspark"
      ]
    },
    {
      "cell_type": "code",
      "source": [
        "import pyspark\n",
        "from pyspark.sql import SparkSession\n",
        "spark = SparkSession.builder.master('local[*]').getOrCreate()"
      ],
      "metadata": {
        "id": "8Pu4SG9SSB6D"
      },
      "execution_count": 2,
      "outputs": []
    },
    {
      "cell_type": "markdown",
      "source": [
        "## Spark SQL - Consultas e Seleções"
      ],
      "metadata": {
        "id": "34WUuKD1RwDI"
      }
    },
    {
      "cell_type": "code",
      "source": [
        "df = spark.sql('''select 'OK' as Status''')\n",
        "df.show()"
      ],
      "metadata": {
        "colab": {
          "base_uri": "https://localhost:8080/"
        },
        "id": "EI8wkU_TRuAV",
        "outputId": "8a382be0-25f6-4ccc-cdd3-ca3ca1821eaf"
      },
      "execution_count": 3,
      "outputs": [
        {
          "output_type": "stream",
          "name": "stdout",
          "text": [
            "+------+\n",
            "|Status|\n",
            "+------+\n",
            "|    OK|\n",
            "+------+\n",
            "\n"
          ]
        }
      ]
    },
    {
      "cell_type": "markdown",
      "source": [
        "## Importing Data"
      ],
      "metadata": {
        "id": "Wa2OifYISXjE"
      }
    },
    {
      "cell_type": "code",
      "source": [
        "df = spark.read.csv('/content/drive/MyDrive/6. Estudos/1. FIAP/Fase 3 - Big Data/bases/cereal.csv', sep=',', inferSchema = True, header = True)\n",
        "df.show()"
      ],
      "metadata": {
        "colab": {
          "base_uri": "https://localhost:8080/"
        },
        "id": "Q_pxXahRSWa1",
        "outputId": "96201565-5cdc-42ca-cb92-f891b9f8a990"
      },
      "execution_count": 4,
      "outputs": [
        {
          "output_type": "stream",
          "name": "stdout",
          "text": [
            "+--------------------+---+----+--------+-------+---+------+-----+-----+------+------+--------+-----+------+----+---------+\n",
            "|                name|mfr|type|calories|protein|fat|sodium|fiber|carbo|sugars|potass|vitamins|shelf|weight|cups|   rating|\n",
            "+--------------------+---+----+--------+-------+---+------+-----+-----+------+------+--------+-----+------+----+---------+\n",
            "|           100% Bran|  N|   C|      70|      4|  1|   130| 10.0|  5.0|     6|   280|      25|    3|   1.0|0.33|68.402973|\n",
            "|   100% Natural Bran|  Q|   C|     120|      3|  5|    15|  2.0|  8.0|     8|   135|       0|    3|   1.0| 1.0|33.983679|\n",
            "|            All-Bran|  K|   C|      70|      4|  1|   260|  9.0|  7.0|     5|   320|      25|    3|   1.0|0.33|59.425505|\n",
            "|All-Bran with Ext...|  K|   C|      50|      4|  0|   140| 14.0|  8.0|     0|   330|      25|    3|   1.0| 0.5|93.704912|\n",
            "|      Almond Delight|  R|   C|     110|      2|  2|   200|  1.0| 14.0|     8|    -1|      25|    3|   1.0|0.75|34.384843|\n",
            "|Apple Cinnamon Ch...|  G|   C|     110|      2|  2|   180|  1.5| 10.5|    10|    70|      25|    1|   1.0|0.75|29.509541|\n",
            "|         Apple Jacks|  K|   C|     110|      2|  0|   125|  1.0| 11.0|    14|    30|      25|    2|   1.0| 1.0|33.174094|\n",
            "|             Basic 4|  G|   C|     130|      3|  2|   210|  2.0| 18.0|     8|   100|      25|    3|  1.33|0.75|37.038562|\n",
            "|           Bran Chex|  R|   C|      90|      2|  1|   200|  4.0| 15.0|     6|   125|      25|    1|   1.0|0.67|49.120253|\n",
            "|         Bran Flakes|  P|   C|      90|      3|  0|   210|  5.0| 13.0|     5|   190|      25|    3|   1.0|0.67|53.313813|\n",
            "|        Cap'n'Crunch|  Q|   C|     120|      1|  2|   220|  0.0| 12.0|    12|    35|      25|    2|   1.0|0.75|18.042851|\n",
            "|            Cheerios|  G|   C|     110|      6|  2|   290|  2.0| 17.0|     1|   105|      25|    1|   1.0|1.25|50.764999|\n",
            "|Cinnamon Toast Cr...|  G|   C|     120|      1|  3|   210|  0.0| 13.0|     9|    45|      25|    2|   1.0|0.75|19.823573|\n",
            "|            Clusters|  G|   C|     110|      3|  2|   140|  2.0| 13.0|     7|   105|      25|    3|   1.0| 0.5|40.400208|\n",
            "|         Cocoa Puffs|  G|   C|     110|      1|  1|   180|  0.0| 12.0|    13|    55|      25|    2|   1.0| 1.0|22.736446|\n",
            "|           Corn Chex|  R|   C|     110|      2|  0|   280|  0.0| 22.0|     3|    25|      25|    1|   1.0| 1.0|41.445019|\n",
            "|         Corn Flakes|  K|   C|     100|      2|  0|   290|  1.0| 21.0|     2|    35|      25|    1|   1.0| 1.0|45.863324|\n",
            "|           Corn Pops|  K|   C|     110|      1|  0|    90|  1.0| 13.0|    12|    20|      25|    2|   1.0| 1.0|35.782791|\n",
            "|       Count Chocula|  G|   C|     110|      1|  1|   180|  0.0| 12.0|    13|    65|      25|    2|   1.0| 1.0|22.396513|\n",
            "|  Cracklin' Oat Bran|  K|   C|     110|      3|  3|   140|  4.0| 10.0|     7|   160|      25|    3|   1.0| 0.5|40.448772|\n",
            "+--------------------+---+----+--------+-------+---+------+-----+-----+------+------+--------+-----+------+----+---------+\n",
            "only showing top 20 rows\n",
            "\n"
          ]
        }
      ]
    },
    {
      "cell_type": "markdown",
      "source": [
        "## Manipulation Data With Spark SQL"
      ],
      "metadata": {
        "id": "JRDe6I91TAnW"
      }
    },
    {
      "cell_type": "code",
      "source": [
        "# cria uma tabela temporária dentro da Sessão\n",
        "df.createOrReplaceTempView('cereal')"
      ],
      "metadata": {
        "id": "o6Xz28XvS4Ba"
      },
      "execution_count": 5,
      "outputs": []
    },
    {
      "cell_type": "code",
      "source": [
        "# base criada no SQL\n",
        "cereal = spark.sql('''SELECT * FROM cereal WHERE type = 'C' ''')\n",
        "cereal.show()"
      ],
      "metadata": {
        "colab": {
          "base_uri": "https://localhost:8080/"
        },
        "id": "IRO6b6kbTNMn",
        "outputId": "911b2892-4641-472c-a154-cd14ace81ce7"
      },
      "execution_count": 6,
      "outputs": [
        {
          "output_type": "stream",
          "name": "stdout",
          "text": [
            "+--------------------+---+----+--------+-------+---+------+-----+-----+------+------+--------+-----+------+----+---------+\n",
            "|                name|mfr|type|calories|protein|fat|sodium|fiber|carbo|sugars|potass|vitamins|shelf|weight|cups|   rating|\n",
            "+--------------------+---+----+--------+-------+---+------+-----+-----+------+------+--------+-----+------+----+---------+\n",
            "|           100% Bran|  N|   C|      70|      4|  1|   130| 10.0|  5.0|     6|   280|      25|    3|   1.0|0.33|68.402973|\n",
            "|   100% Natural Bran|  Q|   C|     120|      3|  5|    15|  2.0|  8.0|     8|   135|       0|    3|   1.0| 1.0|33.983679|\n",
            "|            All-Bran|  K|   C|      70|      4|  1|   260|  9.0|  7.0|     5|   320|      25|    3|   1.0|0.33|59.425505|\n",
            "|All-Bran with Ext...|  K|   C|      50|      4|  0|   140| 14.0|  8.0|     0|   330|      25|    3|   1.0| 0.5|93.704912|\n",
            "|      Almond Delight|  R|   C|     110|      2|  2|   200|  1.0| 14.0|     8|    -1|      25|    3|   1.0|0.75|34.384843|\n",
            "|Apple Cinnamon Ch...|  G|   C|     110|      2|  2|   180|  1.5| 10.5|    10|    70|      25|    1|   1.0|0.75|29.509541|\n",
            "|         Apple Jacks|  K|   C|     110|      2|  0|   125|  1.0| 11.0|    14|    30|      25|    2|   1.0| 1.0|33.174094|\n",
            "|             Basic 4|  G|   C|     130|      3|  2|   210|  2.0| 18.0|     8|   100|      25|    3|  1.33|0.75|37.038562|\n",
            "|           Bran Chex|  R|   C|      90|      2|  1|   200|  4.0| 15.0|     6|   125|      25|    1|   1.0|0.67|49.120253|\n",
            "|         Bran Flakes|  P|   C|      90|      3|  0|   210|  5.0| 13.0|     5|   190|      25|    3|   1.0|0.67|53.313813|\n",
            "|        Cap'n'Crunch|  Q|   C|     120|      1|  2|   220|  0.0| 12.0|    12|    35|      25|    2|   1.0|0.75|18.042851|\n",
            "|            Cheerios|  G|   C|     110|      6|  2|   290|  2.0| 17.0|     1|   105|      25|    1|   1.0|1.25|50.764999|\n",
            "|Cinnamon Toast Cr...|  G|   C|     120|      1|  3|   210|  0.0| 13.0|     9|    45|      25|    2|   1.0|0.75|19.823573|\n",
            "|            Clusters|  G|   C|     110|      3|  2|   140|  2.0| 13.0|     7|   105|      25|    3|   1.0| 0.5|40.400208|\n",
            "|         Cocoa Puffs|  G|   C|     110|      1|  1|   180|  0.0| 12.0|    13|    55|      25|    2|   1.0| 1.0|22.736446|\n",
            "|           Corn Chex|  R|   C|     110|      2|  0|   280|  0.0| 22.0|     3|    25|      25|    1|   1.0| 1.0|41.445019|\n",
            "|         Corn Flakes|  K|   C|     100|      2|  0|   290|  1.0| 21.0|     2|    35|      25|    1|   1.0| 1.0|45.863324|\n",
            "|           Corn Pops|  K|   C|     110|      1|  0|    90|  1.0| 13.0|    12|    20|      25|    2|   1.0| 1.0|35.782791|\n",
            "|       Count Chocula|  G|   C|     110|      1|  1|   180|  0.0| 12.0|    13|    65|      25|    2|   1.0| 1.0|22.396513|\n",
            "|  Cracklin' Oat Bran|  K|   C|     110|      3|  3|   140|  4.0| 10.0|     7|   160|      25|    3|   1.0| 0.5|40.448772|\n",
            "+--------------------+---+----+--------+-------+---+------+-----+-----+------+------+--------+-----+------+----+---------+\n",
            "only showing top 20 rows\n",
            "\n"
          ]
        }
      ]
    },
    {
      "cell_type": "code",
      "source": [
        "df = df.where(df['type'] == 'C')\n",
        "# base criada no Python\n",
        "df.show()"
      ],
      "metadata": {
        "colab": {
          "base_uri": "https://localhost:8080/"
        },
        "id": "yfRaCh7UTX1L",
        "outputId": "72d041f4-10d8-46be-c3b5-93a56dbb87e8"
      },
      "execution_count": 7,
      "outputs": [
        {
          "output_type": "stream",
          "name": "stdout",
          "text": [
            "+--------------------+---+----+--------+-------+---+------+-----+-----+------+------+--------+-----+------+----+---------+\n",
            "|                name|mfr|type|calories|protein|fat|sodium|fiber|carbo|sugars|potass|vitamins|shelf|weight|cups|   rating|\n",
            "+--------------------+---+----+--------+-------+---+------+-----+-----+------+------+--------+-----+------+----+---------+\n",
            "|           100% Bran|  N|   C|      70|      4|  1|   130| 10.0|  5.0|     6|   280|      25|    3|   1.0|0.33|68.402973|\n",
            "|   100% Natural Bran|  Q|   C|     120|      3|  5|    15|  2.0|  8.0|     8|   135|       0|    3|   1.0| 1.0|33.983679|\n",
            "|            All-Bran|  K|   C|      70|      4|  1|   260|  9.0|  7.0|     5|   320|      25|    3|   1.0|0.33|59.425505|\n",
            "|All-Bran with Ext...|  K|   C|      50|      4|  0|   140| 14.0|  8.0|     0|   330|      25|    3|   1.0| 0.5|93.704912|\n",
            "|      Almond Delight|  R|   C|     110|      2|  2|   200|  1.0| 14.0|     8|    -1|      25|    3|   1.0|0.75|34.384843|\n",
            "|Apple Cinnamon Ch...|  G|   C|     110|      2|  2|   180|  1.5| 10.5|    10|    70|      25|    1|   1.0|0.75|29.509541|\n",
            "|         Apple Jacks|  K|   C|     110|      2|  0|   125|  1.0| 11.0|    14|    30|      25|    2|   1.0| 1.0|33.174094|\n",
            "|             Basic 4|  G|   C|     130|      3|  2|   210|  2.0| 18.0|     8|   100|      25|    3|  1.33|0.75|37.038562|\n",
            "|           Bran Chex|  R|   C|      90|      2|  1|   200|  4.0| 15.0|     6|   125|      25|    1|   1.0|0.67|49.120253|\n",
            "|         Bran Flakes|  P|   C|      90|      3|  0|   210|  5.0| 13.0|     5|   190|      25|    3|   1.0|0.67|53.313813|\n",
            "|        Cap'n'Crunch|  Q|   C|     120|      1|  2|   220|  0.0| 12.0|    12|    35|      25|    2|   1.0|0.75|18.042851|\n",
            "|            Cheerios|  G|   C|     110|      6|  2|   290|  2.0| 17.0|     1|   105|      25|    1|   1.0|1.25|50.764999|\n",
            "|Cinnamon Toast Cr...|  G|   C|     120|      1|  3|   210|  0.0| 13.0|     9|    45|      25|    2|   1.0|0.75|19.823573|\n",
            "|            Clusters|  G|   C|     110|      3|  2|   140|  2.0| 13.0|     7|   105|      25|    3|   1.0| 0.5|40.400208|\n",
            "|         Cocoa Puffs|  G|   C|     110|      1|  1|   180|  0.0| 12.0|    13|    55|      25|    2|   1.0| 1.0|22.736446|\n",
            "|           Corn Chex|  R|   C|     110|      2|  0|   280|  0.0| 22.0|     3|    25|      25|    1|   1.0| 1.0|41.445019|\n",
            "|         Corn Flakes|  K|   C|     100|      2|  0|   290|  1.0| 21.0|     2|    35|      25|    1|   1.0| 1.0|45.863324|\n",
            "|           Corn Pops|  K|   C|     110|      1|  0|    90|  1.0| 13.0|    12|    20|      25|    2|   1.0| 1.0|35.782791|\n",
            "|       Count Chocula|  G|   C|     110|      1|  1|   180|  0.0| 12.0|    13|    65|      25|    2|   1.0| 1.0|22.396513|\n",
            "|  Cracklin' Oat Bran|  K|   C|     110|      3|  3|   140|  4.0| 10.0|     7|   160|      25|    3|   1.0| 0.5|40.448772|\n",
            "+--------------------+---+----+--------+-------+---+------+-----+-----+------+------+--------+-----+------+----+---------+\n",
            "only showing top 20 rows\n",
            "\n"
          ]
        }
      ]
    },
    {
      "cell_type": "markdown",
      "source": [
        "## Select no SparkSQL"
      ],
      "metadata": {
        "id": "8NakZsxDViUw"
      }
    },
    {
      "cell_type": "code",
      "source": [
        "df.printSchema()"
      ],
      "metadata": {
        "colab": {
          "base_uri": "https://localhost:8080/"
        },
        "id": "D4PJbUkdVx5l",
        "outputId": "835cb963-2db8-4247-f970-a92e32a33f42"
      },
      "execution_count": 8,
      "outputs": [
        {
          "output_type": "stream",
          "name": "stdout",
          "text": [
            "root\n",
            " |-- name: string (nullable = true)\n",
            " |-- mfr: string (nullable = true)\n",
            " |-- type: string (nullable = true)\n",
            " |-- calories: integer (nullable = true)\n",
            " |-- protein: integer (nullable = true)\n",
            " |-- fat: integer (nullable = true)\n",
            " |-- sodium: integer (nullable = true)\n",
            " |-- fiber: double (nullable = true)\n",
            " |-- carbo: double (nullable = true)\n",
            " |-- sugars: integer (nullable = true)\n",
            " |-- potass: integer (nullable = true)\n",
            " |-- vitamins: integer (nullable = true)\n",
            " |-- shelf: integer (nullable = true)\n",
            " |-- weight: double (nullable = true)\n",
            " |-- cups: double (nullable = true)\n",
            " |-- rating: double (nullable = true)\n",
            "\n"
          ]
        }
      ]
    },
    {
      "cell_type": "code",
      "source": [
        "df.createOrReplaceTempView('cereal')"
      ],
      "metadata": {
        "id": "7BIiyL3JWVHM"
      },
      "execution_count": 9,
      "outputs": []
    },
    {
      "cell_type": "code",
      "source": [
        "cereal = spark.sql(''' SELECT DISTINCT type, mfr FROM cereal ''')\n",
        "cereal.count()"
      ],
      "metadata": {
        "colab": {
          "base_uri": "https://localhost:8080/"
        },
        "id": "X2woR8uuTnFe",
        "outputId": "8a1556b3-0e49-4236-ea17-1e0a037e59dd"
      },
      "execution_count": 10,
      "outputs": [
        {
          "output_type": "execute_result",
          "data": {
            "text/plain": [
              "6"
            ]
          },
          "metadata": {},
          "execution_count": 10
        }
      ]
    },
    {
      "cell_type": "markdown",
      "source": [
        "## WHERE no Spark SQL"
      ],
      "metadata": {
        "id": "019iH9DPWgZU"
      }
    },
    {
      "cell_type": "code",
      "source": [
        "cereal = spark.sql(''' SELECT * FROM cereal WHERE mfr = 'K' ''')\n",
        "cereal.count()"
      ],
      "metadata": {
        "colab": {
          "base_uri": "https://localhost:8080/"
        },
        "id": "Qfmb7sHqXT5_",
        "outputId": "f07847c4-11e1-4563-9687-bceaa3674999"
      },
      "execution_count": 11,
      "outputs": [
        {
          "output_type": "execute_result",
          "data": {
            "text/plain": [
              "23"
            ]
          },
          "metadata": {},
          "execution_count": 11
        }
      ]
    },
    {
      "cell_type": "code",
      "source": [
        "cereal = spark.sql(''' SELECT * FROM cereal WHERE calories = 100 ''')\n",
        "cereal.count()"
      ],
      "metadata": {
        "colab": {
          "base_uri": "https://localhost:8080/"
        },
        "id": "L_eXxEXWXX6p",
        "outputId": "6a75acbb-4377-4210-e001-bddaf4e6a33e"
      },
      "execution_count": 12,
      "outputs": [
        {
          "output_type": "execute_result",
          "data": {
            "text/plain": [
              "14"
            ]
          },
          "metadata": {},
          "execution_count": 12
        }
      ]
    },
    {
      "cell_type": "code",
      "source": [
        "cereal = spark.sql(''' SELECT * FROM cereal WHERE mfr = 'K' AND calories >= 100 ''')\n",
        "cereal.show()"
      ],
      "metadata": {
        "colab": {
          "base_uri": "https://localhost:8080/"
        },
        "id": "lTkGk8wLV9xa",
        "outputId": "4a9398cc-643b-4f34-be0f-477d55816c5d"
      },
      "execution_count": 13,
      "outputs": [
        {
          "output_type": "stream",
          "name": "stdout",
          "text": [
            "+--------------------+---+----+--------+-------+---+------+-----+-----+------+------+--------+-----+------+----+---------+\n",
            "|                name|mfr|type|calories|protein|fat|sodium|fiber|carbo|sugars|potass|vitamins|shelf|weight|cups|   rating|\n",
            "+--------------------+---+----+--------+-------+---+------+-----+-----+------+------+--------+-----+------+----+---------+\n",
            "|         Apple Jacks|  K|   C|     110|      2|  0|   125|  1.0| 11.0|    14|    30|      25|    2|   1.0| 1.0|33.174094|\n",
            "|         Corn Flakes|  K|   C|     100|      2|  0|   290|  1.0| 21.0|     2|    35|      25|    1|   1.0| 1.0|45.863324|\n",
            "|           Corn Pops|  K|   C|     110|      1|  0|    90|  1.0| 13.0|    12|    20|      25|    2|   1.0| 1.0|35.782791|\n",
            "|  Cracklin' Oat Bran|  K|   C|     110|      3|  3|   140|  4.0| 10.0|     7|   160|      25|    3|   1.0| 0.5|40.448772|\n",
            "|             Crispix|  K|   C|     110|      2|  0|   220|  1.0| 21.0|     3|    30|      25|    3|   1.0| 1.0|46.895644|\n",
            "|         Froot Loops|  K|   C|     110|      2|  1|   125|  1.0| 11.0|    13|    30|      25|    2|   1.0| 1.0|32.207582|\n",
            "|      Frosted Flakes|  K|   C|     110|      1|  0|   200|  1.0| 14.0|    11|    25|      25|    1|   1.0|0.75|31.435973|\n",
            "| Frosted Mini-Wheats|  K|   C|     100|      3|  0|     0|  3.0| 14.0|     7|   100|      25|    2|   1.0| 0.8|58.345141|\n",
            "|       Fruitful Bran|  K|   C|     120|      3|  0|   240|  5.0| 14.0|    12|   190|      25|    3|  1.33|0.67|41.015492|\n",
            "|Just Right Crunch...|  K|   C|     110|      2|  1|   170|  1.0| 17.0|     6|    60|     100|    3|   1.0| 1.0|36.523683|\n",
            "|Just Right Fruit ...|  K|   C|     140|      3|  1|   170|  2.0| 20.0|     9|    95|     100|    3|   1.3|0.75|36.471512|\n",
            "|Mueslix Crispy Blend|  K|   C|     160|      3|  2|   150|  3.0| 17.0|    13|   160|      25|    3|   1.5|0.67|30.313351|\n",
            "|    Nut&Honey Crunch|  K|   C|     120|      2|  1|   190|  0.0| 15.0|     9|    40|      25|    2|   1.0|0.67|29.924285|\n",
            "|Nutri-Grain Almon...|  K|   C|     140|      3|  2|   220|  3.0| 21.0|     7|   130|      25|    3|  1.33|0.67| 40.69232|\n",
            "|          Product 19|  K|   C|     100|      3|  0|   320|  1.0| 20.0|     3|    45|     100|    3|   1.0| 1.0| 41.50354|\n",
            "|         Raisin Bran|  K|   C|     120|      3|  1|   210|  5.0| 14.0|    12|   240|      25|    2|  1.33|0.75|39.259197|\n",
            "|       Rice Krispies|  K|   C|     110|      2|  0|   290|  0.0| 22.0|     3|    35|      25|    1|   1.0| 1.0|40.560159|\n",
            "|              Smacks|  K|   C|     110|      2|  1|    70|  1.0|  9.0|    15|    40|      25|    2|   1.0|0.75|31.230054|\n",
            "|           Special K|  K|   C|     110|      6|  0|   230|  1.0| 16.0|     3|    55|      25|    1|   1.0| 1.0|53.131324|\n",
            "+--------------------+---+----+--------+-------+---+------+-----+-----+------+------+--------+-----+------+----+---------+\n",
            "\n"
          ]
        }
      ]
    },
    {
      "cell_type": "markdown",
      "source": [
        "## Group By"
      ],
      "metadata": {
        "id": "1a_ypkPngO6f"
      }
    },
    {
      "cell_type": "code",
      "source": [
        "cereal = spark.sql(''' SELECT mfr, type, COUNT(*) AS total, SUM(calories) AS total_calories FROM cereal GROUP BY mfr, type ''')\n",
        "cereal.show()"
      ],
      "metadata": {
        "colab": {
          "base_uri": "https://localhost:8080/"
        },
        "id": "TCc3maBXgOqv",
        "outputId": "931f132c-23e7-4fb2-d3e2-d5b9aa6f2829"
      },
      "execution_count": 14,
      "outputs": [
        {
          "output_type": "stream",
          "name": "stdout",
          "text": [
            "+---+----+-----+--------------+\n",
            "|mfr|type|total|total_calories|\n",
            "+---+----+-----+--------------+\n",
            "|  P|   C|    9|           980|\n",
            "|  K|   C|   23|          2500|\n",
            "|  G|   C|   22|          2450|\n",
            "|  Q|   C|    7|           660|\n",
            "|  R|   C|    8|           920|\n",
            "|  N|   C|    5|           420|\n",
            "+---+----+-----+--------------+\n",
            "\n"
          ]
        }
      ]
    },
    {
      "cell_type": "markdown",
      "source": [
        "## CASE WHEN"
      ],
      "metadata": {
        "id": "9BksxZZpkI-m"
      }
    },
    {
      "cell_type": "code",
      "source": [
        "cereal = spark.sql(''' SELECT DISTINCT type FROM cereal ''')\n",
        "cereal.show()"
      ],
      "metadata": {
        "colab": {
          "base_uri": "https://localhost:8080/"
        },
        "id": "jj-bxtDLXE6m",
        "outputId": "900cd3fb-f152-44c0-9aec-9a69e668a818"
      },
      "execution_count": 15,
      "outputs": [
        {
          "output_type": "stream",
          "name": "stdout",
          "text": [
            "+----+\n",
            "|type|\n",
            "+----+\n",
            "|   C|\n",
            "+----+\n",
            "\n"
          ]
        }
      ]
    },
    {
      "cell_type": "code",
      "source": [
        "cereal = spark.sql(''' SELECT mfr, type,\n",
        "                              (CASE\n",
        "                                WHEN type = 'C' then 'A'\n",
        "                                WHEN type = 'H' then 'B'\n",
        "                                else 'C' end) AS type_new,\n",
        "                                -- comentários devem ser precedidos de dois tracinhos\n",
        "                              count(*) AS total,\n",
        "                              sum(calories) as total_calories\n",
        "                              FROM cereal\n",
        "                              GROUP BY mfr, type ''')\n",
        "cereal.show()"
      ],
      "metadata": {
        "colab": {
          "base_uri": "https://localhost:8080/"
        },
        "id": "lSkpdV04kbpe",
        "outputId": "2529f61a-d93c-4455-b3de-5ac9e7e93fd7"
      },
      "execution_count": 16,
      "outputs": [
        {
          "output_type": "stream",
          "name": "stdout",
          "text": [
            "+---+----+--------+-----+--------------+\n",
            "|mfr|type|type_new|total|total_calories|\n",
            "+---+----+--------+-----+--------------+\n",
            "|  P|   C|       A|    9|           980|\n",
            "|  K|   C|       A|   23|          2500|\n",
            "|  G|   C|       A|   22|          2450|\n",
            "|  Q|   C|       A|    7|           660|\n",
            "|  R|   C|       A|    8|           920|\n",
            "|  N|   C|       A|    5|           420|\n",
            "+---+----+--------+-----+--------------+\n",
            "\n"
          ]
        }
      ]
    },
    {
      "cell_type": "markdown",
      "source": [
        "# Consultas Avançadas em SQL usando o PySpark"
      ],
      "metadata": {
        "id": "GdeFpLOsmgUw"
      }
    },
    {
      "cell_type": "code",
      "source": [
        "df.show(5)"
      ],
      "metadata": {
        "colab": {
          "base_uri": "https://localhost:8080/"
        },
        "id": "aobb4UheoCRz",
        "outputId": "d4493d7a-3927-4b36-b75e-69a6b08cfcfc"
      },
      "execution_count": 17,
      "outputs": [
        {
          "output_type": "stream",
          "name": "stdout",
          "text": [
            "+--------------------+---+----+--------+-------+---+------+-----+-----+------+------+--------+-----+------+----+---------+\n",
            "|                name|mfr|type|calories|protein|fat|sodium|fiber|carbo|sugars|potass|vitamins|shelf|weight|cups|   rating|\n",
            "+--------------------+---+----+--------+-------+---+------+-----+-----+------+------+--------+-----+------+----+---------+\n",
            "|           100% Bran|  N|   C|      70|      4|  1|   130| 10.0|  5.0|     6|   280|      25|    3|   1.0|0.33|68.402973|\n",
            "|   100% Natural Bran|  Q|   C|     120|      3|  5|    15|  2.0|  8.0|     8|   135|       0|    3|   1.0| 1.0|33.983679|\n",
            "|            All-Bran|  K|   C|      70|      4|  1|   260|  9.0|  7.0|     5|   320|      25|    3|   1.0|0.33|59.425505|\n",
            "|All-Bran with Ext...|  K|   C|      50|      4|  0|   140| 14.0|  8.0|     0|   330|      25|    3|   1.0| 0.5|93.704912|\n",
            "|      Almond Delight|  R|   C|     110|      2|  2|   200|  1.0| 14.0|     8|    -1|      25|    3|   1.0|0.75|34.384843|\n",
            "+--------------------+---+----+--------+-------+---+------+-----+-----+------+------+--------+-----+------+----+---------+\n",
            "only showing top 5 rows\n",
            "\n"
          ]
        }
      ]
    },
    {
      "cell_type": "code",
      "source": [
        "cereal = spark.sql('''\n",
        "                  SELECT mfr,\n",
        "                        type,\n",
        "                        SUM(calories) AS sum_calories,\n",
        "                        MIN(calories) AS min_calories,\n",
        "                        MAX(calories) AS max_calories,\n",
        "                        AVG(calories) AS avg_calories,\n",
        "                        COUNT(distinct name) AS count_distinct_names,\n",
        "                        COUNT(name) AS count_names\n",
        "                  FROM cereal\n",
        "                  GROUP BY mfr, type\n",
        "                  ORDER BY mfr, type\n",
        "                  ''')\n",
        "cereal.show()"
      ],
      "metadata": {
        "colab": {
          "base_uri": "https://localhost:8080/"
        },
        "id": "Vh3Wk8VzlGC9",
        "outputId": "90dc0e44-803e-45aa-c4f7-535e04e76ded"
      },
      "execution_count": 18,
      "outputs": [
        {
          "output_type": "stream",
          "name": "stdout",
          "text": [
            "+---+----+------------+------------+------------+------------------+--------------------+-----------+\n",
            "|mfr|type|sum_calories|min_calories|max_calories|      avg_calories|count_distinct_names|count_names|\n",
            "+---+----+------------+------------+------------+------------------+--------------------+-----------+\n",
            "|  G|   C|        2450|         100|         140|111.36363636363636|                  22|         22|\n",
            "|  K|   C|        2500|          50|         160|108.69565217391305|                  23|         23|\n",
            "|  N|   C|         420|          70|          90|              84.0|                   5|          5|\n",
            "|  P|   C|         980|          90|         120|108.88888888888889|                   9|          9|\n",
            "|  Q|   C|         660|          50|         120| 94.28571428571429|                   7|          7|\n",
            "|  R|   C|         920|          90|         150|             115.0|                   8|          8|\n",
            "+---+----+------------+------------+------------+------------------+--------------------+-----------+\n",
            "\n"
          ]
        }
      ]
    },
    {
      "cell_type": "code",
      "source": [
        "cereal = spark.sql('''\n",
        "                  SELECT mfr,\n",
        "                        type,\n",
        "\n",
        "                        SUM(calories) AS sum_calories,\n",
        "                        MIN(calories) AS min_calories,\n",
        "                        MAX(calories) AS max_calories,\n",
        "                        cast (AVG(calories) AS decimal (10,2)) AS avg_calories,\n",
        "\n",
        "                        SUM(carbo) AS sum_carbo,\n",
        "                        MIN(carbo) AS min_carbo,\n",
        "                        MAX(carbo) AS max_carbo,\n",
        "                        cast (AVG(carbo) AS decimal (10,2)) AS avg_carbo,\n",
        "\n",
        "                        SUM(vitamins) AS sum_vitamins,\n",
        "                        MIN(vitamins) AS min_vitamins,\n",
        "                        MAX(vitamins) AS max_vitamins,\n",
        "                        cast (AVG(vitamins) AS decimal(10,2)) AS avg_vitamins,\n",
        "\n",
        "                        COUNT(distinct name) AS count_distinct_names,\n",
        "                        COUNT(name) AS count_names\n",
        "\n",
        "                  FROM cereal\n",
        "                  GROUP BY mfr, type\n",
        "                  ORDER BY mfr, type\n",
        "                  ''')\n",
        "cereal.show()"
      ],
      "metadata": {
        "colab": {
          "base_uri": "https://localhost:8080/"
        },
        "id": "EnY69ga-m16m",
        "outputId": "6edbaac8-0e20-4962-f314-1ac13bf264c0"
      },
      "execution_count": 19,
      "outputs": [
        {
          "output_type": "stream",
          "name": "stdout",
          "text": [
            "+---+----+------------+------------+------------+------------+---------+---------+---------+---------+------------+------------+------------+------------+--------------------+-----------+\n",
            "|mfr|type|sum_calories|min_calories|max_calories|avg_calories|sum_carbo|min_carbo|max_carbo|avg_carbo|sum_vitamins|min_vitamins|max_vitamins|avg_vitamins|count_distinct_names|count_names|\n",
            "+---+----+------------+------------+------------+------------+---------+---------+---------+---------+------------+------------+------------+------------+--------------------+-----------+\n",
            "|  G|   C|        2450|         100|         140|      111.36|    324.0|     10.5|     21.0|    14.73|         775|          25|         100|       35.23|                  22|         22|\n",
            "|  K|   C|        2500|          50|         160|      108.70|    348.0|      7.0|     22.0|    15.13|         800|          25|         100|       34.78|                  23|         23|\n",
            "|  N|   C|         420|          70|          90|       84.00|     75.0|      5.0|     20.0|    15.00|          50|           0|          25|       10.00|                   5|          5|\n",
            "|  P|   C|         980|          90|         120|      108.89|    119.0|     11.0|     17.0|    13.22|         225|          25|          25|       25.00|                   9|          9|\n",
            "|  Q|   C|         660|          50|         120|       94.29|     81.0|      8.0|     14.0|    11.57|         100|           0|          25|       14.29|                   7|          7|\n",
            "|  R|   C|         920|          90|         150|      115.00|    141.0|     14.0|     23.0|    17.63|         200|          25|          25|       25.00|                   8|          8|\n",
            "+---+----+------------+------------+------------+------------+---------+---------+---------+---------+------------+------------+------------+------------+--------------------+-----------+\n",
            "\n"
          ]
        }
      ]
    },
    {
      "cell_type": "code",
      "source": [
        "cereal = spark.sql('''\n",
        "                  SELECT mfr,\n",
        "                        type,\n",
        "                        (CASE\n",
        "                          WHEN mfr = 'G' then 'Abacaxi'\n",
        "                          WHEN mfr = 'K' then 'Goiaba'\n",
        "                          WHEN mfr = 'N' then 'Banana'\n",
        "                          WHEN mfr = 'P' then 'Tomate'\n",
        "                          WHEN mfr = 'Q' then 'Uva'\n",
        "                          WHEN mfr = 'R' then 'Melancia'\n",
        "                          ELSE 'NA'\n",
        "                        END) as fruit_type,\n",
        "\n",
        "                        SUM(calories) AS sum_calories,\n",
        "                        MIN(calories) AS min_calories,\n",
        "                        MAX(calories) AS max_calories,\n",
        "                        cast (AVG(calories) AS decimal (10,2)) AS avg_calories,\n",
        "\n",
        "                        SUM(carbo) AS sum_carbo,\n",
        "                        MIN(carbo) AS min_carbo,\n",
        "                        MAX(carbo) AS max_carbo,\n",
        "                        cast (AVG(carbo) AS decimal (10,2)) AS avg_carbo,\n",
        "\n",
        "                        SUM(vitamins) AS sum_vitamins,\n",
        "                        MIN(vitamins) AS min_vitamins,\n",
        "                        MAX(vitamins) AS max_vitamins,\n",
        "                        cast (AVG(vitamins) AS decimal(10,2)) AS avg_vitamins,\n",
        "\n",
        "                        COUNT(distinct name) AS count_distinct_names,\n",
        "                        COUNT(name) AS count_names\n",
        "\n",
        "                  FROM cereal\n",
        "                  GROUP BY mfr, type\n",
        "                  ORDER BY mfr, type\n",
        "                  ''')\n",
        "cereal.show()"
      ],
      "metadata": {
        "colab": {
          "base_uri": "https://localhost:8080/"
        },
        "id": "KDpNqqEBpXyC",
        "outputId": "fa7dcee3-fda2-4701-ebf1-2e6a2a9bf8a4"
      },
      "execution_count": 20,
      "outputs": [
        {
          "output_type": "stream",
          "name": "stdout",
          "text": [
            "+---+----+----------+------------+------------+------------+------------+---------+---------+---------+---------+------------+------------+------------+------------+--------------------+-----------+\n",
            "|mfr|type|fruit_type|sum_calories|min_calories|max_calories|avg_calories|sum_carbo|min_carbo|max_carbo|avg_carbo|sum_vitamins|min_vitamins|max_vitamins|avg_vitamins|count_distinct_names|count_names|\n",
            "+---+----+----------+------------+------------+------------+------------+---------+---------+---------+---------+------------+------------+------------+------------+--------------------+-----------+\n",
            "|  G|   C|   Abacaxi|        2450|         100|         140|      111.36|    324.0|     10.5|     21.0|    14.73|         775|          25|         100|       35.23|                  22|         22|\n",
            "|  K|   C|    Goiaba|        2500|          50|         160|      108.70|    348.0|      7.0|     22.0|    15.13|         800|          25|         100|       34.78|                  23|         23|\n",
            "|  N|   C|    Banana|         420|          70|          90|       84.00|     75.0|      5.0|     20.0|    15.00|          50|           0|          25|       10.00|                   5|          5|\n",
            "|  P|   C|    Tomate|         980|          90|         120|      108.89|    119.0|     11.0|     17.0|    13.22|         225|          25|          25|       25.00|                   9|          9|\n",
            "|  Q|   C|       Uva|         660|          50|         120|       94.29|     81.0|      8.0|     14.0|    11.57|         100|           0|          25|       14.29|                   7|          7|\n",
            "|  R|   C|  Melancia|         920|          90|         150|      115.00|    141.0|     14.0|     23.0|    17.63|         200|          25|          25|       25.00|                   8|          8|\n",
            "+---+----+----------+------------+------------+------------+------------+---------+---------+---------+---------+------------+------------+------------+------------+--------------------+-----------+\n",
            "\n"
          ]
        }
      ]
    },
    {
      "cell_type": "markdown",
      "source": [
        "## Joins"
      ],
      "metadata": {
        "id": "TZxY9bMGqpaU"
      }
    },
    {
      "cell_type": "markdown",
      "source": [
        "### Inner JOIN"
      ],
      "metadata": {
        "id": "HX6X0BALqsZD"
      }
    },
    {
      "cell_type": "code",
      "source": [
        "\n",
        "sales = spark.read.csv('/content/drive/MyDrive/6. Estudos/1. FIAP/Fase 3 - Big Data/bases/sales_data_sample.csv', sep=',', inferSchema = True, header = True)\n",
        "sales.show()"
      ],
      "metadata": {
        "id": "XMb_D9iqquGy",
        "colab": {
          "base_uri": "https://localhost:8080/"
        },
        "outputId": "f2c29185-0221-4dd9-8cd3-dbd8f42bc5ca"
      },
      "execution_count": 22,
      "outputs": [
        {
          "output_type": "stream",
          "name": "stdout",
          "text": [
            "+-----------+---------------+---------+---------------+-------+---------------+-------+------+--------+-------+-----------+----+-----------+--------------------+----------------+--------------------+------------+-------------+--------+----------+---------+---------+---------------+----------------+--------+\n",
            "|ORDERNUMBER|QUANTITYORDERED|PRICEEACH|ORDERLINENUMBER|  SALES|      ORDERDATE| STATUS|QTR_ID|MONTH_ID|YEAR_ID|PRODUCTLINE|MSRP|PRODUCTCODE|        CUSTOMERNAME|           PHONE|        ADDRESSLINE1|ADDRESSLINE2|         CITY|   STATE|POSTALCODE|  COUNTRY|TERRITORY|CONTACTLASTNAME|CONTACTFIRSTNAME|DEALSIZE|\n",
            "+-----------+---------------+---------+---------------+-------+---------------+-------+------+--------+-------+-----------+----+-----------+--------------------+----------------+--------------------+------------+-------------+--------+----------+---------+---------+---------------+----------------+--------+\n",
            "|      10107|             30|     95.7|              2| 2871.0| 2/24/2003 0:00|Shipped|     1|       2|   2003|Motorcycles|  95|   S10_1678|   Land of Toys Inc.|      2125557818|897 Long Airport ...|        NULL|          NYC|      NY|     10022|      USA|       NA|             Yu|            Kwai|   Small|\n",
            "|      10121|             34|    81.35|              5| 2765.9|  5/7/2003 0:00|Shipped|     2|       5|   2003|Motorcycles|  95|   S10_1678|  Reims Collectables|      26.47.1555|  59 rue de l'Abbaye|        NULL|        Reims|    NULL|     51100|   France|     EMEA|        Henriot|            Paul|   Small|\n",
            "|      10134|             41|    94.74|              2|3884.34|  7/1/2003 0:00|Shipped|     3|       7|   2003|Motorcycles|  95|   S10_1678|     Lyon Souveniers|+33 1 46 62 7555|27 rue du Colonel...|        NULL|        Paris|    NULL|     75508|   France|     EMEA|       Da Cunha|          Daniel|  Medium|\n",
            "|      10145|             45|    83.26|              6| 3746.7| 8/25/2003 0:00|Shipped|     3|       8|   2003|Motorcycles|  95|   S10_1678|   Toys4GrownUps.com|      6265557265|  78934 Hillside Dr.|        NULL|     Pasadena|      CA|     90003|      USA|       NA|          Young|           Julie|  Medium|\n",
            "|      10159|             49|    100.0|             14|5205.27|10/10/2003 0:00|Shipped|     4|      10|   2003|Motorcycles|  95|   S10_1678|Corporate Gift Id...|      6505551386|     7734 Strong St.|        NULL|San Francisco|      CA|      NULL|      USA|       NA|          Brown|           Julie|  Medium|\n",
            "|      10168|             36|    96.66|              1|3479.76|10/28/2003 0:00|Shipped|     4|      10|   2003|Motorcycles|  95|   S10_1678|Technics Stores Inc.|      6505556809|   9408 Furth Circle|        NULL|   Burlingame|      CA|     94217|      USA|       NA|         Hirano|            Juri|  Medium|\n",
            "|      10180|             29|    86.13|              9|2497.77|11/11/2003 0:00|Shipped|     4|      11|   2003|Motorcycles|  95|   S10_1678|Daedalus Designs ...|      20.16.1555|184, chausse de T...|        NULL|        Lille|    NULL|     59000|   France|     EMEA|          Rance|         Martine|   Small|\n",
            "|      10188|             48|    100.0|              1|5512.32|11/18/2003 0:00|Shipped|     4|      11|   2003|Motorcycles|  95|   S10_1678|        Herkku Gifts|   +47 2267 3215|Drammen 121, PR 7...|        NULL|       Bergen|    NULL|    N 5804|   Norway|     EMEA|         Oeztan|          Veysel|  Medium|\n",
            "|      10201|             22|    98.57|              2|2168.54| 12/1/2003 0:00|Shipped|     4|      12|   2003|Motorcycles|  95|   S10_1678|     Mini Wheels Co.|      6505555787|5557 North Pendal...|        NULL|San Francisco|      CA|      NULL|      USA|       NA|         Murphy|           Julie|   Small|\n",
            "|      10211|             41|    100.0|             14|4708.44| 1/15/2004 0:00|Shipped|     1|       1|   2004|Motorcycles|  95|   S10_1678|    Auto Canal Petit|  (1) 47.55.6555|   25, rue Lauriston|        NULL|        Paris|    NULL|     75016|   France|     EMEA|        Perrier|       Dominique|  Medium|\n",
            "|      10223|             37|    100.0|              1|3965.66| 2/20/2004 0:00|Shipped|     1|       2|   2004|Motorcycles|  95|   S10_1678|Australian Collec...|    03 9520 4555|   636 St Kilda Road|     Level 3|    Melbourne|Victoria|      3004|Australia|     APAC|       Ferguson|           Peter|  Medium|\n",
            "|      10237|             23|    100.0|              7|2333.12|  4/5/2004 0:00|Shipped|     2|       4|   2004|Motorcycles|  95|   S10_1678|     Vitachrome Inc.|      2125551500|   2678 Kingston Rd.|   Suite 101|          NYC|      NY|     10022|      USA|       NA|          Frick|         Michael|   Small|\n",
            "|      10251|             28|    100.0|              2|3188.64| 5/18/2004 0:00|Shipped|     2|       5|   2004|Motorcycles|  95|   S10_1678|Tekni Collectable...|      2015559350|       7476 Moss Rd.|        NULL|       Newark|      NJ|     94019|      USA|       NA|          Brown|         William|  Medium|\n",
            "|      10263|             34|    100.0|              2|3676.76| 6/28/2004 0:00|Shipped|     2|       6|   2004|Motorcycles|  95|   S10_1678|     Gift Depot Inc.|      2035552570| 25593 South Bay Ln.|        NULL|  Bridgewater|      CT|     97562|      USA|       NA|           King|           Julie|  Medium|\n",
            "|      10275|             45|    92.83|              1|4177.35| 7/23/2004 0:00|Shipped|     3|       7|   2004|Motorcycles|  95|   S10_1678|   La Rochelle Gifts|      40.67.8555|67, rue des Cinqu...|        NULL|       Nantes|    NULL|     44000|   France|     EMEA|        Labrune|          Janine|  Medium|\n",
            "|      10285|             36|    100.0|              6|4099.68| 8/27/2004 0:00|Shipped|     3|       8|   2004|Motorcycles|  95|   S10_1678|Marta's Replicas Co.|      6175558555| 39323 Spinnaker Dr.|        NULL|    Cambridge|      MA|     51247|      USA|       NA|      Hernandez|           Marta|  Medium|\n",
            "|      10299|             23|    100.0|              9|2597.39| 9/30/2004 0:00|Shipped|     3|       9|   2004|Motorcycles|  95|   S10_1678|Toys of Finland, Co.|     90-224 8555|       Keskuskatu 45|        NULL|     Helsinki|    NULL|     21240|  Finland|     EMEA|      Karttunen|           Matti|   Small|\n",
            "|      10309|             41|    100.0|              5|4394.38|10/15/2004 0:00|Shipped|     4|      10|   2004|Motorcycles|  95|   S10_1678|  Baane Mini Imports|      07-98 9555|Erling Skakkes ga...|        NULL|      Stavern|    NULL|      4110|   Norway|     EMEA|     Bergulfsen|           Jonas|  Medium|\n",
            "|      10318|             46|    94.74|              1|4358.04| 11/2/2004 0:00|Shipped|     4|      11|   2004|Motorcycles|  95|   S10_1678|Diecast Classics ...|      2155551555|    7586 Pompton St.|        NULL|    Allentown|      PA|     70267|      USA|       NA|             Yu|           Kyung|  Medium|\n",
            "|      10329|             42|    100.0|              1|4396.14|11/15/2004 0:00|Shipped|     4|      11|   2004|Motorcycles|  95|   S10_1678|   Land of Toys Inc.|      2125557818|897 Long Airport ...|        NULL|          NYC|      NY|     10022|      USA|       NA|             Yu|            Kwai|  Medium|\n",
            "+-----------+---------------+---------+---------------+-------+---------------+-------+------+--------+-------+-----------+----+-----------+--------------------+----------------+--------------------+------------+-------------+--------+----------+---------+---------+---------------+----------------+--------+\n",
            "only showing top 20 rows\n",
            "\n"
          ]
        }
      ]
    },
    {
      "cell_type": "code",
      "source": [
        "sales.createOrReplaceTempView('sales')"
      ],
      "metadata": {
        "id": "MJ5jB44AsTov"
      },
      "execution_count": 24,
      "outputs": []
    },
    {
      "cell_type": "code",
      "source": [
        "sales.printSchema()"
      ],
      "metadata": {
        "colab": {
          "base_uri": "https://localhost:8080/"
        },
        "id": "TqN5dC0usbS2",
        "outputId": "2ee1bfa6-a64c-40c7-f871-88ce894b9338"
      },
      "execution_count": 26,
      "outputs": [
        {
          "output_type": "stream",
          "name": "stdout",
          "text": [
            "root\n",
            " |-- ORDERNUMBER: integer (nullable = true)\n",
            " |-- QUANTITYORDERED: integer (nullable = true)\n",
            " |-- PRICEEACH: double (nullable = true)\n",
            " |-- ORDERLINENUMBER: integer (nullable = true)\n",
            " |-- SALES: double (nullable = true)\n",
            " |-- ORDERDATE: string (nullable = true)\n",
            " |-- STATUS: string (nullable = true)\n",
            " |-- QTR_ID: integer (nullable = true)\n",
            " |-- MONTH_ID: integer (nullable = true)\n",
            " |-- YEAR_ID: integer (nullable = true)\n",
            " |-- PRODUCTLINE: string (nullable = true)\n",
            " |-- MSRP: integer (nullable = true)\n",
            " |-- PRODUCTCODE: string (nullable = true)\n",
            " |-- CUSTOMERNAME: string (nullable = true)\n",
            " |-- PHONE: string (nullable = true)\n",
            " |-- ADDRESSLINE1: string (nullable = true)\n",
            " |-- ADDRESSLINE2: string (nullable = true)\n",
            " |-- CITY: string (nullable = true)\n",
            " |-- STATE: string (nullable = true)\n",
            " |-- POSTALCODE: string (nullable = true)\n",
            " |-- COUNTRY: string (nullable = true)\n",
            " |-- TERRITORY: string (nullable = true)\n",
            " |-- CONTACTLASTNAME: string (nullable = true)\n",
            " |-- CONTACTFIRSTNAME: string (nullable = true)\n",
            " |-- DEALSIZE: string (nullable = true)\n",
            "\n"
          ]
        }
      ]
    },
    {
      "cell_type": "code",
      "source": [
        "calendar = spark.sql('''\n",
        "                SELECT DISTINCT orderdate, qtr_id, month_id, year_id\n",
        "                FROM sales\n",
        "                ORDER BY orderdate\n",
        "                ''')\n",
        "\n",
        "sales_data = spark.sql('''\n",
        "                  SELECT DISTINCT ORDERNUMBER,\n",
        "                                  CUSTOMERNAME,\n",
        "                                  ORDERDATE,\n",
        "                                  SALES,\n",
        "                                  QUANTITYORDERED,\n",
        "                                  PRODUCTCODE,\n",
        "                                  ORDERLINENUMBER,\n",
        "                                  PRICEEACH\n",
        "                  FROM sales\n",
        "                  ORDER BY ORDERNUMBER\n",
        "                  ''')\n",
        "\n",
        "customers = spark.sql('''\n",
        "                  SELECT DISTINCT CUSTOMERNAME,\n",
        "                                  PHONE,\n",
        "                                  ADDRESSLINE1,\n",
        "                                  ADDRESSLINE2,\n",
        "                                  CITY,\n",
        "                                  STATE,\n",
        "                                  POSTALCODE,\n",
        "                                  COUNTRY,\n",
        "                                  TERRITORY\n",
        "\n",
        "                  FROM sales\n",
        "                  ORDER BY CUSTOMERNAME\n",
        "                  ''')\n",
        "\n",
        "sales_data.createOrReplaceTempView('sales_data')\n",
        "calendar.createOrReplaceTempView('calendar')\n",
        "customers.createOrReplaceTempView('customers')"
      ],
      "metadata": {
        "id": "urp5bB8er_wP"
      },
      "execution_count": 40,
      "outputs": []
    },
    {
      "cell_type": "code",
      "source": [
        "calendar.count()"
      ],
      "metadata": {
        "colab": {
          "base_uri": "https://localhost:8080/"
        },
        "id": "sm-suGY2vF5j",
        "outputId": "249bbde1-3bea-4a8a-8637-f1cdba17e112"
      },
      "execution_count": 41,
      "outputs": [
        {
          "output_type": "execute_result",
          "data": {
            "text/plain": [
              "252"
            ]
          },
          "metadata": {},
          "execution_count": 41
        }
      ]
    },
    {
      "cell_type": "code",
      "source": [
        "sales_data.count()"
      ],
      "metadata": {
        "colab": {
          "base_uri": "https://localhost:8080/"
        },
        "id": "GNL8ORc7vIvF",
        "outputId": "3ddd2014-12b5-4be4-9a2c-98dfa415cb90"
      },
      "execution_count": 42,
      "outputs": [
        {
          "output_type": "execute_result",
          "data": {
            "text/plain": [
              "2823"
            ]
          },
          "metadata": {},
          "execution_count": 42
        }
      ]
    },
    {
      "cell_type": "code",
      "source": [
        "customers.count()"
      ],
      "metadata": {
        "colab": {
          "base_uri": "https://localhost:8080/"
        },
        "id": "HtJfsqfjvKvB",
        "outputId": "4b4bdbd0-6cdd-44ec-d83c-86b88b1034df"
      },
      "execution_count": 43,
      "outputs": [
        {
          "output_type": "execute_result",
          "data": {
            "text/plain": [
              "92"
            ]
          },
          "metadata": {},
          "execution_count": 43
        }
      ]
    },
    {
      "cell_type": "code",
      "source": [
        "calendar.show()"
      ],
      "metadata": {
        "colab": {
          "base_uri": "https://localhost:8080/"
        },
        "id": "EdPJf4t1vNZz",
        "outputId": "36513d8b-b101-44e2-8c37-684a9d18d9cd"
      },
      "execution_count": 44,
      "outputs": [
        {
          "output_type": "stream",
          "name": "stdout",
          "text": [
            "+--------------+------+--------+-------+\n",
            "|     orderdate|qtr_id|month_id|year_id|\n",
            "+--------------+------+--------+-------+\n",
            "|1/10/2003 0:00|     1|       1|   2003|\n",
            "|1/10/2005 0:00|     1|       1|   2005|\n",
            "|1/12/2004 0:00|     1|       1|   2004|\n",
            "|1/12/2005 0:00|     1|       1|   2005|\n",
            "|1/15/2004 0:00|     1|       1|   2004|\n",
            "|1/16/2004 0:00|     1|       1|   2004|\n",
            "|1/19/2005 0:00|     1|       1|   2005|\n",
            "| 1/2/2004 0:00|     1|       1|   2004|\n",
            "|1/20/2005 0:00|     1|       1|   2005|\n",
            "|1/22/2004 0:00|     1|       1|   2004|\n",
            "|1/23/2005 0:00|     1|       1|   2005|\n",
            "|1/26/2004 0:00|     1|       1|   2004|\n",
            "|1/26/2005 0:00|     1|       1|   2005|\n",
            "|1/29/2003 0:00|     1|       1|   2003|\n",
            "|1/29/2004 0:00|     1|       1|   2004|\n",
            "|1/31/2003 0:00|     1|       1|   2003|\n",
            "|1/31/2005 0:00|     1|       1|   2005|\n",
            "| 1/5/2005 0:00|     1|       1|   2005|\n",
            "| 1/6/2003 0:00|     1|       1|   2003|\n",
            "| 1/6/2005 0:00|     1|       1|   2005|\n",
            "+--------------+------+--------+-------+\n",
            "only showing top 20 rows\n",
            "\n"
          ]
        }
      ]
    },
    {
      "cell_type": "code",
      "source": [
        "sales_data.show()"
      ],
      "metadata": {
        "colab": {
          "base_uri": "https://localhost:8080/"
        },
        "id": "RpreA8dqvSac",
        "outputId": "f4085084-45f6-4ead-95dd-07760b490ce1"
      },
      "execution_count": 45,
      "outputs": [
        {
          "output_type": "stream",
          "name": "stdout",
          "text": [
            "+-----------+--------------------+--------------+-------+---------------+-----------+---------------+---------+\n",
            "|ORDERNUMBER|        CUSTOMERNAME|     ORDERDATE|  SALES|QUANTITYORDERED|PRODUCTCODE|ORDERLINENUMBER|PRICEEACH|\n",
            "+-----------+--------------------+--------------+-------+---------------+-----------+---------------+---------+\n",
            "|      10100|Online Diecast Cr...| 1/6/2003 0:00| 3390.0|             50|   S18_2248|              2|     67.8|\n",
            "|      10100|Online Diecast Cr...| 1/6/2003 0:00| 5151.0|             30|   S18_1749|              3|    100.0|\n",
            "|      10100|Online Diecast Cr...| 1/6/2003 0:00|1689.03|             49|   S24_3969|              1|    34.47|\n",
            "|      10100|Online Diecast Cr...| 1/6/2003 0:00|1903.22|             22|   S18_4409|              4|    86.51|\n",
            "|      10101|Blauer See Auto, Co.| 1/9/2003 0:00| 1404.0|             45|   S24_1937|              3|     31.2|\n",
            "|      10101|Blauer See Auto, Co.| 1/9/2003 0:00| 3782.0|             25|   S18_2325|              4|    100.0|\n",
            "|      10101|Blauer See Auto, Co.| 1/9/2003 0:00|2472.96|             46|   S24_2022|              2|    53.76|\n",
            "|      10101|Blauer See Auto, Co.| 1/9/2003 0:00|3773.38|             26|   S18_2795|              1|    100.0|\n",
            "|      10102|     Vitachrome Inc.|1/10/2003 0:00|2055.74|             41|   S18_1367|              1|    50.14|\n",
            "|      10102|     Vitachrome Inc.|1/10/2003 0:00|4808.31|             39|   S18_1342|              2|    100.0|\n",
            "|      10103|  Baane Mini Imports|1/29/2003 0:00|3394.98|             27|   S12_1666|              8|    100.0|\n",
            "|      10103|  Baane Mini Imports|1/29/2003 0:00|3680.28|             36|   S24_2300|              1|    100.0|\n",
            "|      10103|  Baane Mini Imports|1/29/2003 0:00| 2539.5|             25|   S18_3136|             13|    100.0|\n",
            "|      10103|  Baane Mini Imports|1/29/2003 0:00|1938.89|             41|   S18_4668|              9|    47.29|\n",
            "|      10103|  Baane Mini Imports|1/29/2003 0:00| 3920.0|             35|   S18_1097|             10|    100.0|\n",
            "|      10103|  Baane Mini Imports|1/29/2003 0:00|4460.82|             42|  S700_2824|              6|    100.0|\n",
            "|      10103|  Baane Mini Imports|1/29/2003 0:00| 4228.2|             36|   S18_4600|              5|    100.0|\n",
            "|      10103|  Baane Mini Imports|1/29/2003 0:00|3403.35|             45|   S32_3522|              7|    75.63|\n",
            "|      10103|  Baane Mini Imports|1/29/2003 0:00|5398.26|             42|   S10_4962|              4|    100.0|\n",
            "|      10103|  Baane Mini Imports|1/29/2003 0:00| 2011.1|             35|   S18_2957|             14|    57.46|\n",
            "+-----------+--------------------+--------------+-------+---------------+-----------+---------------+---------+\n",
            "only showing top 20 rows\n",
            "\n"
          ]
        }
      ]
    },
    {
      "cell_type": "code",
      "source": [
        "customers.show()"
      ],
      "metadata": {
        "colab": {
          "base_uri": "https://localhost:8080/"
        },
        "id": "kHEH4-fGvUrT",
        "outputId": "5065d08e-e8cd-47fc-b7e4-94b421bcd38e"
      },
      "execution_count": 46,
      "outputs": [
        {
          "output_type": "stream",
          "name": "stdout",
          "text": [
            "+--------------------+-----------------+--------------------+------------+--------------+----------+----------+---------+---------+\n",
            "|        CUSTOMERNAME|            PHONE|        ADDRESSLINE1|ADDRESSLINE2|          CITY|     STATE|POSTALCODE|  COUNTRY|TERRITORY|\n",
            "+--------------------+-----------------+--------------------+------------+--------------+----------+----------+---------+---------+\n",
            "|      AV Stores, Co.|   (171) 555-1555|   Fauntleroy Circus|        NULL|    Manchester|      NULL|   EC2 5NT|       UK|     EMEA|\n",
            "|        Alpha Cognac|       61.77.6555|1 rue Alsace-Lorr...|        NULL|      Toulouse|      NULL|     31000|   France|     EMEA|\n",
            "|  Amica Models & Co.|      011-4988555| Via Monte Bianco 34|        NULL|        Torino|      NULL|     10100|    Italy|     EMEA|\n",
            "|Anna's Decoration...|     02 9936 8555|   201 Miller Street|    Level 15|  North Sydney|       NSW|      2060|Australia|     APAC|\n",
            "|   Atelier graphique|       40.32.2555|      54, rue Royale|        NULL|        Nantes|      NULL|     44000|   France|     EMEA|\n",
            "|Australian Collec...|   61-9-3844-6555|      7 Allen Street|        NULL|  Glen Waverly|  Victoria|      3150|Australia|     APAC|\n",
            "|Australian Collec...|     03 9520 4555|   636 St Kilda Road|     Level 3|     Melbourne|  Victoria|      3004|Australia|     APAC|\n",
            "|Australian Gift N...|   61-7-3844-6555|31 Duncan St. Wes...|        NULL|South Brisbane|Queensland|      4101|Australia|     APAC|\n",
            "|  Auto Assoc. & Cie.|       30.59.8555|67, avenue de l'E...|        NULL|    Versailles|      NULL|     78000|   France|     EMEA|\n",
            "|    Auto Canal Petit|   (1) 47.55.6555|   25, rue Lauriston|        NULL|         Paris|      NULL|     75016|   France|     EMEA|\n",
            "|Auto-Moto Classic...|       6175558428|   16780 Pompton St.|        NULL|    Brickhaven|        MA|     58339|      USA|       NA|\n",
            "|  Baane Mini Imports|       07-98 9555|Erling Skakkes ga...|        NULL|       Stavern|      NULL|      4110|   Norway|     EMEA|\n",
            "|Bavarian Collecta...|+49 89 61 08 9555|        Hansastr. 15|        NULL|        Munich|      NULL|     80686|  Germany|     EMEA|\n",
            "|Blauer See Auto, Co.|+49 69 66 90 2555|       Lyonerstr. 34|        NULL|     Frankfurt|      NULL|     60528|  Germany|     EMEA|\n",
            "|   Boards & Toys Co.|       3105552373|    4097 Douglas Av.|        NULL|      Glendale|        CA|     92561|      USA|       NA|\n",
            "|         CAF Imports|  +34 913 728 555|Merchants House, ...|        NULL|        Madrid|      NULL|     28023|    Spain|     EMEA|\n",
            "|Cambridge Collect...|       6175555555|      4658 Baden Av.|        NULL|     Cambridge|        MA|     51247|      USA|       NA|\n",
            "|Canadian Gift Exc...|   (604) 555-3392|        1900 Oak St.|        NULL|     Vancouver|        BC|   V3F 2K1|   Canada|       NA|\n",
            "|Classic Gift Idea...|       2155554695|    782 First Street|        NULL|  Philadelphia|        PA|     71270|      USA|       NA|\n",
            "|Classic Legends Inc.|       2125558493|    5905 Pompton St.|   Suite 750|           NYC|        NY|     10022|      USA|       NA|\n",
            "+--------------------+-----------------+--------------------+------------+--------------+----------+----------+---------+---------+\n",
            "only showing top 20 rows\n",
            "\n"
          ]
        }
      ]
    },
    {
      "cell_type": "code",
      "source": [
        "master = spark.sql('''\n",
        "                  SELECT *\n",
        "                  FROM sales_data s\n",
        "                  INNER JOIN customers c ON s.CUSTOMERNAME = c.CUSTOMERNAME\n",
        "                  ''')\n",
        "\n",
        "master.show()"
      ],
      "metadata": {
        "colab": {
          "base_uri": "https://localhost:8080/"
        },
        "id": "fBOmqZlOvWJj",
        "outputId": "26f14291-6b22-4a87-821e-00e3119ca58f"
      },
      "execution_count": 50,
      "outputs": [
        {
          "output_type": "stream",
          "name": "stdout",
          "text": [
            "+-----------+--------------------+---------------+-------+---------------+-----------+---------------+---------+--------------------+---------------+--------------------+------------+-----------+-----+----------+---------+---------+\n",
            "|ORDERNUMBER|        CUSTOMERNAME|      ORDERDATE|  SALES|QUANTITYORDERED|PRODUCTCODE|ORDERLINENUMBER|PRICEEACH|        CUSTOMERNAME|          PHONE|        ADDRESSLINE1|ADDRESSLINE2|       CITY|STATE|POSTALCODE|  COUNTRY|TERRITORY|\n",
            "+-----------+--------------------+---------------+-------+---------------+-----------+---------------+---------+--------------------+---------------+--------------------+------------+-----------+-----+----------+---------+---------+\n",
            "|      10275|   La Rochelle Gifts| 7/23/2004 0:00|4177.35|             45|   S10_1678|              1|    92.83|   La Rochelle Gifts|     40.67.8555|67, rue des Cinqu...|        NULL|     Nantes| NULL|     44000|   France|     EMEA|\n",
            "|      10291|Scandinavian Gift...|  9/8/2004 0:00|7136.19|             37|   S10_1949|             11|    100.0|Scandinavian Gift...|   0695-34 6555|        ?kergatan 24|        NULL|      Boras| NULL|  S-844 67|   Sweden|     EMEA|\n",
            "|      10382|Mini Gifts Distri...| 2/17/2005 0:00|4071.85|             37|   S12_3148|             11|    100.0|Mini Gifts Distri...|     4155551450|     5677 Strong St.|        NULL| San Rafael|   CA|     97562|      USA|       NA|\n",
            "|      10278|  Signal Gift Stores|  8/6/2004 0:00|4667.86|             34|   S18_1129|              6|    100.0|  Signal Gift Stores|     7025551838|     8489 Strong St.|        NULL|  Las Vegas|   NV|     83030|      USA|       NA|\n",
            "|      10207|Diecast Collectables| 12/9/2003 0:00|7060.24|             44|   S18_2238|              6|    100.0|Diecast Collectables|     6175552555|      6251 Ingle Ln.|        NULL|     Boston|   MA|     51003|      USA|       NA|\n",
            "|      10246|Euro Shopping Cha...|  5/5/2004 0:00| 6549.2|             40|   S18_2238|              4|    100.0|Euro Shopping Cha...| (91) 555 94 44|  C/ Moralzarzal, 86|        NULL|     Madrid| NULL|     28034|    Spain|     EMEA|\n",
            "|      10184|Iberia Gift Impor...|11/14/2003 0:00|1863.41|             31|   S24_1444|              3|    60.11|Iberia Gift Impor...| (95) 555 82 82|       C/ Romero, 33|        NULL|    Sevilla| NULL|     41101|    Spain|     EMEA|\n",
            "|      10407|The Sharp Gifts W...| 4/22/2005 0:00| 2576.0|             64|   S24_1628|             10|    40.25|The Sharp Gifts W...|     4085553659|      3086 Ingle Ln.|        NULL|   San Jose|   CA|     94217|      USA|       NA|\n",
            "|      10324|     Vitachrome Inc.| 11/5/2004 0:00|3820.44|             31|   S24_2300|              2|    100.0|     Vitachrome Inc.|     2125551500|   2678 Kingston Rd.|   Suite 101|        NYC|   NY|     10022|      USA|       NA|\n",
            "|      10394|Euro Shopping Cha...| 3/15/2005 0:00| 1789.4|             46|   S24_2840|              6|     38.9|Euro Shopping Cha...| (91) 555 94 44|  C/ Moralzarzal, 86|        NULL|     Madrid| NULL|     28034|    Spain|     EMEA|\n",
            "|      10332|      AV Stores, Co.|11/17/2004 0:00|1859.44|             44|   S24_2887|             11|    42.26|      AV Stores, Co.| (171) 555-1555|   Fauntleroy Circus|        NULL| Manchester| NULL|   EC2 5NT|       UK|     EMEA|\n",
            "|      10361|Souveniers And Th...|12/17/2004 0:00|3544.17|             49|   S32_4289|              2|    72.33|Souveniers And Th...|+61 2 9495 8555|Monitor Money Bui...|     Level 6|  Chatswood|  NSW|      2067|Australia|     APAC|\n",
            "|      10375|   La Rochelle Gifts|  2/3/2005 0:00| 3224.2|             49|   S50_1341|              5|     65.8|   La Rochelle Gifts|     40.67.8555|67, rue des Cinqu...|        NULL|     Nantes| NULL|     44000|   France|     EMEA|\n",
            "|      10383|Euro Shopping Cha...| 2/22/2005 0:00|3087.05|             29|   S50_1392|             13|    100.0|Euro Shopping Cha...| (91) 555 94 44|  C/ Moralzarzal, 86|        NULL|     Madrid| NULL|     28034|    Spain|     EMEA|\n",
            "|      10135|Mini Gifts Distri...|  7/2/2003 0:00| 4224.0|             44|   S50_4713|             15|     96.0|Mini Gifts Distri...|     4155551450|     5677 Strong St.|        NULL| San Rafael|   CA|     97562|      USA|       NA|\n",
            "|      10401|Tekni Collectable...|  4/3/2005 0:00|2018.31|             21|  S700_2834|              2|    96.11|Tekni Collectable...|     2015559350|       7476 Moss Rd.|        NULL|     Newark|   NJ|     94019|      USA|       NA|\n",
            "|      10373|Oulu Toy Supplies...| 1/31/2005 0:00| 2502.9|             45|  S700_4002|             17|    55.62|Oulu Toy Supplies...|     981-443655|         Torikatu 38|        NULL|       Oulu| NULL|     90110|  Finland|     EMEA|\n",
            "|      10209|Men 'R' US Retail...|  1/9/2004 0:00|2145.12|             48|   S72_1253|              3|    44.69|Men 'R' US Retail...|     2155554369|    6047 Douglas Av.|        NULL|Los Angeles|   CA|      NULL|      USA|       NA|\n",
            "|      10292|   Land of Toys Inc.|  9/8/2004 0:00|4554.94|             26|   S18_2238|              7|    100.0|   Land of Toys Inc.|     2125557818|897 Long Airport ...|        NULL|        NYC|   NY|     10022|      USA|       NA|\n",
            "|      10196|    Super Scale Inc.|11/26/2003 0:00|3564.75|             35|   S18_3259|              3|    100.0|    Super Scale Inc.|     2035559545|567 North Pendale...|        NULL|  New Haven|   CT|     97823|      USA|       NA|\n",
            "+-----------+--------------------+---------------+-------+---------------+-----------+---------------+---------+--------------------+---------------+--------------------+------------+-----------+-----+----------+---------+---------+\n",
            "only showing top 20 rows\n",
            "\n"
          ]
        }
      ]
    },
    {
      "cell_type": "code",
      "source": [
        "master_city = spark.sql('''\n",
        "                  SELECT DISTINCT s.ORDERNUMBER, c.CITY\n",
        "                  FROM sales_data s\n",
        "                  INNER JOIN customers c ON s.CUSTOMERNAME = c.CUSTOMERNAME\n",
        "                  ''')\n",
        "\n",
        "master_city.show()"
      ],
      "metadata": {
        "colab": {
          "base_uri": "https://localhost:8080/"
        },
        "id": "LFzn3wrdw6HS",
        "outputId": "06afe7da-2b7d-454b-f3ad-eef5101e5811"
      },
      "execution_count": 52,
      "outputs": [
        {
          "output_type": "stream",
          "name": "stdout",
          "text": [
            "+-----------+-------------+\n",
            "|ORDERNUMBER|         CITY|\n",
            "+-----------+-------------+\n",
            "|      10300|    Frankfurt|\n",
            "|      10385|   San Rafael|\n",
            "|      10241|   Strasbourg|\n",
            "|      10182|   San Rafael|\n",
            "|      10140|   Burlingame|\n",
            "|      10153|       Madrid|\n",
            "|      10293|       Torino|\n",
            "|      10161|      Aaarhus|\n",
            "|      10406|    Kobenhavn|\n",
            "|      10414|       Boston|\n",
            "|      10311|       Madrid|\n",
            "|      10357|   San Rafael|\n",
            "|      10195| White Plains|\n",
            "|      10189|     Pasadena|\n",
            "|      10422|    Allentown|\n",
            "|      10111|San Francisco|\n",
            "|      10204|          NYC|\n",
            "|      10151|         Oulu|\n",
            "|      10304|   Versailles|\n",
            "|      10369|   Brickhaven|\n",
            "+-----------+-------------+\n",
            "only showing top 20 rows\n",
            "\n"
          ]
        }
      ]
    }
  ]
}