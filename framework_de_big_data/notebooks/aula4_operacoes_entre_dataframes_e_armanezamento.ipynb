{
  "cells": [
    {
      "cell_type": "markdown",
      "metadata": {
        "id": "dj5hxQqE77uj"
      },
      "source": [
        "# Instalação do PySpark"
      ]
    },
    {
      "cell_type": "code",
      "execution_count": 1,
      "metadata": {
        "colab": {
          "base_uri": "https://localhost:8080/"
        },
        "id": "vHBP36Ar68f2",
        "outputId": "503407ac-d277-4175-f58d-8b3910c50d22"
      },
      "outputs": [
        {
          "name": "stdout",
          "output_type": "stream",
          "text": [
            "Collecting pyspark\n",
            "  Downloading pyspark-3.5.1.tar.gz (317.0 MB)\n",
            "\u001b[2K     \u001b[90m━━━━━━━━━━━━━━━━━━━━━━━━━━━━━━━━━━━━━━━━\u001b[0m \u001b[32m317.0/317.0 MB\u001b[0m \u001b[31m2.0 MB/s\u001b[0m eta \u001b[36m0:00:00\u001b[0m\n",
            "\u001b[?25h  Preparing metadata (setup.py) ... \u001b[?25l\u001b[?25hdone\n",
            "Requirement already satisfied: py4j==0.10.9.7 in /usr/local/lib/python3.10/dist-packages (from pyspark) (0.10.9.7)\n",
            "Building wheels for collected packages: pyspark\n",
            "  Building wheel for pyspark (setup.py) ... \u001b[?25l\u001b[?25hdone\n",
            "  Created wheel for pyspark: filename=pyspark-3.5.1-py2.py3-none-any.whl size=317488491 sha256=e365819ae7208efd13e2a931efdda9f6b42f472b20341b189899c5e129e67166\n",
            "  Stored in directory: /root/.cache/pip/wheels/80/1d/60/2c256ed38dddce2fdd93be545214a63e02fbd8d74fb0b7f3a6\n",
            "Successfully built pyspark\n",
            "Installing collected packages: pyspark\n",
            "Successfully installed pyspark-3.5.1\n"
          ]
        }
      ],
      "source": [
        "!pip install pyspark"
      ]
    },
    {
      "cell_type": "code",
      "execution_count": 2,
      "metadata": {
        "colab": {
          "base_uri": "https://localhost:8080/"
        },
        "id": "mGuRP8Jo7Zuu",
        "outputId": "8c52630e-1151-44e8-b1a6-6ef9899e97fe"
      },
      "outputs": [
        {
          "name": "stdout",
          "output_type": "stream",
          "text": [
            "Collecting findspark\n",
            "  Downloading findspark-2.0.1-py2.py3-none-any.whl (4.4 kB)\n",
            "Installing collected packages: findspark\n",
            "Successfully installed findspark-2.0.1\n"
          ]
        }
      ],
      "source": [
        "!pip install findspark"
      ]
    },
    {
      "cell_type": "code",
      "execution_count": 5,
      "metadata": {
        "id": "Z1fTuTo87bnx"
      },
      "outputs": [],
      "source": [
        "from pyspark import SparkContext\n",
        "from pyspark.sql import SparkSession"
      ]
    },
    {
      "cell_type": "code",
      "execution_count": 6,
      "metadata": {
        "id": "40FIOBQI7iJj"
      },
      "outputs": [],
      "source": [
        "sc = SparkContext.getOrCreate()"
      ]
    },
    {
      "cell_type": "code",
      "execution_count": 7,
      "metadata": {
        "id": "1Xu5XLux7lbe"
      },
      "outputs": [],
      "source": [
        "spark = SparkSession.builder.appName('PySpark Dataframe').getOrCreate()"
      ]
    },
    {
      "cell_type": "markdown",
      "metadata": {
        "id": "lz8eXgzZ7_98"
      },
      "source": [
        "# Transformations"
      ]
    },
    {
      "cell_type": "markdown",
      "metadata": {
        "id": "ZMbbGPmC8MVS"
      },
      "source": [
        "## `map()`"
      ]
    },
    {
      "cell_type": "code",
      "execution_count": 8,
      "metadata": {
        "colab": {
          "base_uri": "https://localhost:8080/"
        },
        "id": "PlWmdjie8CQy",
        "outputId": "429b9bb0-3d26-4675-e040-afd580722b06"
      },
      "outputs": [
        {
          "name": "stdout",
          "output_type": "stream",
          "text": [
            "[2, 4, 6, 8, 10]\n"
          ]
        }
      ],
      "source": [
        "data = [1,2,3,4,5]\n",
        "myRDD = sc.parallelize(data)\n",
        "newRDD = myRDD.map(lambda x: x*2)\n",
        "\n",
        "# collect() é uma forma de visualização de dados\n",
        "print(newRDD.collect())"
      ]
    },
    {
      "cell_type": "markdown",
      "metadata": {
        "id": "kMJ9BDro8lnN"
      },
      "source": [
        "## `filter()`"
      ]
    },
    {
      "cell_type": "code",
      "execution_count": 10,
      "metadata": {
        "colab": {
          "base_uri": "https://localhost:8080/"
        },
        "id": "L14kZxVg8cji",
        "outputId": "d4f82b01-3cbc-4ab7-cf13-a3f28ff32f73"
      },
      "outputs": [
        {
          "name": "stdout",
          "output_type": "stream",
          "text": [
            "[2, 4, 6, 8, 10]\n"
          ]
        }
      ],
      "source": [
        "data = [1,2,3,4,5,6,7,8,9,10]\n",
        "myRDD = sc.parallelize(data)\n",
        "newRDD = myRDD.filter(lambda x: x%2 == 0)\n",
        "\n",
        "print(newRDD.collect())"
      ]
    },
    {
      "cell_type": "markdown",
      "metadata": {
        "id": "NnVyBC_-9G86"
      },
      "source": [
        "## `distinct()`"
      ]
    },
    {
      "cell_type": "code",
      "execution_count": 11,
      "metadata": {
        "colab": {
          "base_uri": "https://localhost:8080/"
        },
        "id": "IGVHQ0Kr835V",
        "outputId": "02bf9d71-d5de-4c3e-9cb8-db80864e1a32"
      },
      "outputs": [
        {
          "name": "stdout",
          "output_type": "stream",
          "text": [
            "[2, 1, 3]\n"
          ]
        }
      ],
      "source": [
        "data = [1,1,1,2,2,2,3,3,3,3]\n",
        "myRDD = sc.parallelize(data)\n",
        "newRDD = myRDD.distinct()\n",
        "\n",
        "print(newRDD.collect())"
      ]
    },
    {
      "cell_type": "code",
      "execution_count": 12,
      "metadata": {
        "colab": {
          "base_uri": "https://localhost:8080/"
        },
        "id": "R_K0KZSn9feO",
        "outputId": "03fe6632-724f-4d85-caa7-31a48dea95b4"
      },
      "outputs": [
        {
          "name": "stdout",
          "output_type": "stream",
          "text": [
            "3\n"
          ]
        }
      ],
      "source": [
        "print(newRDD.count())"
      ]
    },
    {
      "cell_type": "code",
      "execution_count": 13,
      "metadata": {
        "colab": {
          "base_uri": "https://localhost:8080/"
        },
        "id": "4O11xg3x9Zml",
        "outputId": "62bbf2f1-1fff-4b18-d642-c4fedb6e4b49"
      },
      "outputs": [
        {
          "name": "stdout",
          "output_type": "stream",
          "text": [
            "PythonRDD[11] at collect at <ipython-input-11-b946c00e7997>:5\n"
          ]
        }
      ],
      "source": [
        "print(newRDD)"
      ]
    },
    {
      "cell_type": "code",
      "execution_count": 14,
      "metadata": {
        "colab": {
          "base_uri": "https://localhost:8080/"
        },
        "id": "6oWE5HjL9oW3",
        "outputId": "cc11a117-076c-4812-e82c-e30b4547c02d"
      },
      "outputs": [
        {
          "name": "stdout",
          "output_type": "stream",
          "text": [
            "<class 'pyspark.rdd.PipelinedRDD'>\n"
          ]
        }
      ],
      "source": [
        "print(type(newRDD))"
      ]
    },
    {
      "cell_type": "markdown",
      "metadata": {
        "id": "oyWwzCdB9v4Q"
      },
      "source": [
        "## `groupByKey()`"
      ]
    },
    {
      "cell_type": "markdown",
      "metadata": {
        "id": "51j_mcNd-XpH"
      },
      "source": [
        "Agrupa valores de um DataFrame dentro de uma chave."
      ]
    },
    {
      "cell_type": "code",
      "execution_count": 15,
      "metadata": {
        "colab": {
          "base_uri": "https://localhost:8080/"
        },
        "id": "6LdvWnQI9u3K",
        "outputId": "6c807be3-20ab-4fb6-fead-5408bd9a11da"
      },
      "outputs": [
        {
          "data": {
            "text/plain": [
              "[('b', [1]), ('a', [1, 2, 3])]"
            ]
          },
          "execution_count": 15,
          "metadata": {},
          "output_type": "execute_result"
        }
      ],
      "source": [
        "myRDD = sc.parallelize([('a',1), ('a',2), ('a',3), ('b',1)])\n",
        "\n",
        "# print result as list\n",
        "resultList = myRDD.groupByKey().mapValues(list)\n",
        "resultList.collect()"
      ]
    },
    {
      "cell_type": "markdown",
      "metadata": {
        "id": "z7eZ4qaZ-bWK"
      },
      "source": [
        "## `reduceByKey()`"
      ]
    },
    {
      "cell_type": "code",
      "execution_count": 16,
      "metadata": {
        "colab": {
          "base_uri": "https://localhost:8080/"
        },
        "id": "nU30_5UW-RxG",
        "outputId": "3dcfd8aa-0b91-450b-95fe-3b6bb4f682ee"
      },
      "outputs": [
        {
          "data": {
            "text/plain": [
              "[('b', 1), ('a', 6)]"
            ]
          },
          "execution_count": 16,
          "metadata": {},
          "output_type": "execute_result"
        }
      ],
      "source": [
        "from operator import add\n",
        "myRDD = sc.parallelize([('a',1), ('a',2), ('a',3), ('b',1)])\n",
        "# adds the values by keys\n",
        "\n",
        "newRDD = myRDD.reduceByKey(add)\n",
        "newRDD.collect()"
      ]
    },
    {
      "cell_type": "markdown",
      "metadata": {
        "id": "3pesqBie-0Z_"
      },
      "source": [
        "## `sortByKey()` - o OrderBy do SQL"
      ]
    },
    {
      "cell_type": "code",
      "execution_count": 17,
      "metadata": {
        "colab": {
          "base_uri": "https://localhost:8080/"
        },
        "id": "63p9NT_O-qE2",
        "outputId": "92701ae8-5654-48ed-d76c-808f7b1825b4"
      },
      "outputs": [
        {
          "data": {
            "text/plain": [
              "[('a', 3), ('b', 4), ('c', 1), ('d', 2)]"
            ]
          },
          "execution_count": 17,
          "metadata": {},
          "output_type": "execute_result"
        }
      ],
      "source": [
        "myRDD = sc.parallelize([('c',1), ('d',2), ('a',3), ('b',4)])\n",
        "# adds the values by keys\n",
        "\n",
        "newRDD = myRDD.sortByKey()\n",
        "newRDD.collect()"
      ]
    },
    {
      "cell_type": "markdown",
      "metadata": {
        "id": "S7_qGFvO_SyH"
      },
      "source": [
        "## `union()`"
      ]
    },
    {
      "cell_type": "code",
      "execution_count": 18,
      "metadata": {
        "colab": {
          "base_uri": "https://localhost:8080/"
        },
        "id": "F3vd-GAE_EuQ",
        "outputId": "c1682ea4-1ca1-45b0-90ce-fa5b366c8dcf"
      },
      "outputs": [
        {
          "data": {
            "text/plain": [
              "[1, 2, 3, 4, 3, 4, 5, 6, 7]"
            ]
          },
          "execution_count": 18,
          "metadata": {},
          "output_type": "execute_result"
        }
      ],
      "source": [
        "myRDD1 = sc.parallelize([1,2,3,4])\n",
        "myRDD2 = sc.parallelize([3,4,5,6,7])\n",
        "# union of myRDD1 and myRDD2\n",
        "newRDD = myRDD1.union(myRDD2)\n",
        "newRDD.collect()"
      ]
    },
    {
      "cell_type": "markdown",
      "metadata": {
        "id": "JoInUMYQAG-h"
      },
      "source": [
        "# Actions"
      ]
    },
    {
      "cell_type": "markdown",
      "metadata": {
        "id": "Rnqu8UFwAKpT"
      },
      "source": [
        "## `count()`"
      ]
    },
    {
      "cell_type": "code",
      "execution_count": 19,
      "metadata": {
        "colab": {
          "base_uri": "https://localhost:8080/"
        },
        "id": "KtBquuW-AHxh",
        "outputId": "12afd2c7-53d7-4829-b35d-c4ca8be9e78f"
      },
      "outputs": [
        {
          "data": {
            "text/plain": [
              "4"
            ]
          },
          "execution_count": 19,
          "metadata": {},
          "output_type": "execute_result"
        }
      ],
      "source": [
        "data = ['Scala', 'Python', 'Java', 'R']\n",
        "myRDD = sc.parallelize(data)\n",
        "# returns 4 as optout\n",
        "myRDD.count()"
      ]
    },
    {
      "cell_type": "markdown",
      "metadata": {
        "id": "H5EaUtsnAuVh"
      },
      "source": [
        "## `reduce()`"
      ]
    },
    {
      "cell_type": "code",
      "execution_count": 20,
      "metadata": {
        "colab": {
          "base_uri": "https://localhost:8080/"
        },
        "id": "utDsL9zZAa93",
        "outputId": "13fd434b-ec43-4862-99d9-6e5417f60616"
      },
      "outputs": [
        {
          "data": {
            "text/plain": [
              "120"
            ]
          },
          "execution_count": 20,
          "metadata": {},
          "output_type": "execute_result"
        }
      ],
      "source": [
        "data = [1,2,3,4,5]\n",
        "myRDD = sc.parallelize(data)\n",
        "# returns the product of all the elements\n",
        "myRDD.reduce(lambda x, y: x*y)"
      ]
    },
    {
      "cell_type": "markdown",
      "metadata": {
        "id": "OCyLiMz6BBBg"
      },
      "source": [
        "## `forEach()`"
      ]
    },
    {
      "cell_type": "code",
      "execution_count": 21,
      "metadata": {
        "id": "RY7hummEA6m_"
      },
      "outputs": [],
      "source": [
        "def fun(x):\n",
        "  print(x)\n",
        "data = ['Scala', 'Python', 'Java', 'R']\n",
        "myRDD = sc.parallelize(data)\n",
        "# function applied to all the elements\n",
        "myRDD.foreach(fun)"
      ]
    },
    {
      "cell_type": "markdown",
      "metadata": {
        "id": "ICG3LST9Bef3"
      },
      "source": [
        "## `countByValue()`"
      ]
    },
    {
      "cell_type": "code",
      "execution_count": 22,
      "metadata": {
        "colab": {
          "base_uri": "https://localhost:8080/"
        },
        "id": "l6g_shUKBVNU",
        "outputId": "61148540-39cf-45e7-de7d-66368036735c"
      },
      "outputs": [
        {
          "data": {
            "text/plain": [
              "dict_items([('Python', 3), ('Scala', 1), ('R', 2), ('Java', 1)])"
            ]
          },
          "execution_count": 22,
          "metadata": {},
          "output_type": "execute_result"
        }
      ],
      "source": [
        "data = ['Python', 'Scala', 'Python', 'R', 'Python', 'Java', 'R']\n",
        "myRDD = sc.parallelize(data)\n",
        "# items() returns a list with all the dictionary keys and values returned by countByValue()\n",
        "myRDD.countByValue().items()"
      ]
    },
    {
      "cell_type": "markdown",
      "metadata": {
        "id": "r2Fm0o2_CCHp"
      },
      "source": [
        "## `countByKey()`"
      ]
    },
    {
      "cell_type": "code",
      "execution_count": 25,
      "metadata": {
        "colab": {
          "base_uri": "https://localhost:8080/"
        },
        "id": "GficgFV2BzeH",
        "outputId": "3026dc5d-9bdb-427a-a69a-c1c623729ca0"
      },
      "outputs": [
        {
          "data": {
            "text/plain": [
              "dict_items([('a', 2), ('b', 1), ('c', 1)])"
            ]
          },
          "execution_count": 25,
          "metadata": {},
          "output_type": "execute_result"
        }
      ],
      "source": [
        "data = [('a', 1), ('b', 1), ('c', 1), ('a', 1)]\n",
        "myRDD = sc.parallelize(data)\n",
        "myRDD.countByKey().items()"
      ]
    },
    {
      "cell_type": "markdown",
      "metadata": {
        "id": "f1I9FRZtClDp"
      },
      "source": [
        "## `take(n)` - SELECT TOP ou LIMIT do SQL"
      ]
    },
    {
      "cell_type": "code",
      "execution_count": 26,
      "metadata": {
        "colab": {
          "base_uri": "https://localhost:8080/"
        },
        "id": "Sbyyw9N0CURK",
        "outputId": "ee59a508-6578-471c-a807-69b0c5b9aed9"
      },
      "outputs": [
        {
          "data": {
            "text/plain": [
              "[2, 5, 3]"
            ]
          },
          "execution_count": 26,
          "metadata": {},
          "output_type": "execute_result"
        }
      ],
      "source": [
        "data = [2, 5, 3, 8, 4]\n",
        "myRDD = sc.parallelize(data)\n",
        "# return the first 3 elements\n",
        "myRDD.take(3)"
      ]
    },
    {
      "cell_type": "markdown",
      "metadata": {},
      "source": [
        "## `top()`"
      ]
    },
    {
      "cell_type": "code",
      "execution_count": 28,
      "metadata": {
        "colab": {
          "base_uri": "https://localhost:8080/"
        },
        "id": "gmqOfASvCyv3",
        "outputId": "f627c282-65cf-444e-eaf9-626249bfae4b"
      },
      "outputs": [
        {
          "data": {
            "text/plain": [
              "[8, 5, 4]"
            ]
          },
          "execution_count": 28,
          "metadata": {},
          "output_type": "execute_result"
        }
      ],
      "source": [
        "data = [2, 5, 3, 8, 4]\n",
        "myRDD = sc.parallelize(data)\n",
        "# return the first 3 elements\n",
        "myRDD.top(3)"
      ]
    }
  ],
  "metadata": {
    "colab": {
      "provenance": []
    },
    "kernelspec": {
      "display_name": "Python 3",
      "name": "python3"
    },
    "language_info": {
      "name": "python"
    }
  },
  "nbformat": 4,
  "nbformat_minor": 0
}
