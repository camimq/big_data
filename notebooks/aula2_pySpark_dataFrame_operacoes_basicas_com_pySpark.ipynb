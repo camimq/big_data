{
  "cells": [
    {
      "cell_type": "markdown",
      "metadata": {
        "id": "3NKvC08G31Ac"
      },
      "source": [
        "# Creating and Manipulating in PySpark DataFrame"
      ]
    },
    {
      "cell_type": "code",
      "execution_count": 1,
      "metadata": {
        "colab": {
          "base_uri": "https://localhost:8080/"
        },
        "id": "I7Dtdg4Vw7LU",
        "outputId": "7b783061-203e-4e71-9d18-d3789e87140e"
      },
      "outputs": [
        {
          "name": "stdout",
          "output_type": "stream",
          "text": [
            "Collecting pyspark\n",
            "  Downloading pyspark-3.5.1.tar.gz (317.0 MB)\n",
            "\u001b[2K     \u001b[90m━━━━━━━━━━━━━━━━━━━━━━━━━━━━━━━━━━━━━━━━\u001b[0m \u001b[32m317.0/317.0 MB\u001b[0m \u001b[31m3.1 MB/s\u001b[0m eta \u001b[36m0:00:00\u001b[0m\n",
            "\u001b[?25h  Preparing metadata (setup.py) ... \u001b[?25l\u001b[?25hdone\n",
            "Requirement already satisfied: py4j==0.10.9.7 in /usr/local/lib/python3.10/dist-packages (from pyspark) (0.10.9.7)\n",
            "Building wheels for collected packages: pyspark\n",
            "  Building wheel for pyspark (setup.py) ... \u001b[?25l\u001b[?25hdone\n",
            "  Created wheel for pyspark: filename=pyspark-3.5.1-py2.py3-none-any.whl size=317488491 sha256=9e3debd179fc6e3ab5b5d0bb75c5f2ad0e6db3d3f71ffdad9b9f7759bc8f184d\n",
            "  Stored in directory: /root/.cache/pip/wheels/80/1d/60/2c256ed38dddce2fdd93be545214a63e02fbd8d74fb0b7f3a6\n",
            "Successfully built pyspark\n",
            "Installing collected packages: pyspark\n",
            "Successfully installed pyspark-3.5.1\n"
          ]
        }
      ],
      "source": [
        "!pip install pyspark\n",
        "import pyspark\n",
        "from pyspark.sql import SparkSession\n",
        "spark = SparkSession.builder.appName('pysparkdf').getOrCreate()"
      ]
    },
    {
      "cell_type": "markdown",
      "metadata": {
        "id": "qGiy1pHS372Q"
      },
      "source": [
        "# Importing ata"
      ]
    },
    {
      "cell_type": "code",
      "execution_count": 2,
      "metadata": {
        "id": "MJtye7AQxNb8"
      },
      "outputs": [],
      "source": [
        "df = spark.read.csv('/content/cereal.csv', sep=',', inferSchema = True, header = True)"
      ]
    },
    {
      "cell_type": "markdown",
      "metadata": {
        "id": "_9d8eRGW4TOe"
      },
      "source": [
        "## Reading Schema"
      ]
    },
    {
      "cell_type": "code",
      "execution_count": 3,
      "metadata": {
        "colab": {
          "base_uri": "https://localhost:8080/"
        },
        "id": "gvTbZzcP4Ney",
        "outputId": "927dd990-a31d-43c2-aa21-bbccff52d631"
      },
      "outputs": [
        {
          "name": "stdout",
          "output_type": "stream",
          "text": [
            "root\n",
            " |-- name: string (nullable = true)\n",
            " |-- mfr: string (nullable = true)\n",
            " |-- type: string (nullable = true)\n",
            " |-- calories: integer (nullable = true)\n",
            " |-- protein: integer (nullable = true)\n",
            " |-- fat: integer (nullable = true)\n",
            " |-- sodium: integer (nullable = true)\n",
            " |-- fiber: double (nullable = true)\n",
            " |-- carbo: double (nullable = true)\n",
            " |-- sugars: integer (nullable = true)\n",
            " |-- potass: integer (nullable = true)\n",
            " |-- vitamins: integer (nullable = true)\n",
            " |-- shelf: integer (nullable = true)\n",
            " |-- weight: double (nullable = true)\n",
            " |-- cups: double (nullable = true)\n",
            " |-- rating: double (nullable = true)\n",
            "\n"
          ]
        }
      ],
      "source": [
        "df.printSchema()"
      ]
    },
    {
      "cell_type": "markdown",
      "metadata": {
        "id": "AfAgvhnJ4YUl"
      },
      "source": [
        "## `select()`"
      ]
    },
    {
      "cell_type": "code",
      "execution_count": 4,
      "metadata": {
        "colab": {
          "base_uri": "https://localhost:8080/"
        },
        "id": "zqglu6EY4Wta",
        "outputId": "3958bfce-0e60-41ce-a439-1b6957791da3"
      },
      "outputs": [
        {
          "name": "stdout",
          "output_type": "stream",
          "text": [
            "+--------------------+---+---------+\n",
            "|                name|mfr|   rating|\n",
            "+--------------------+---+---------+\n",
            "|           100% Bran|  N|68.402973|\n",
            "|   100% Natural Bran|  Q|33.983679|\n",
            "|            All-Bran|  K|59.425505|\n",
            "|All-Bran with Ext...|  K|93.704912|\n",
            "|      Almond Delight|  R|34.384843|\n",
            "|Apple Cinnamon Ch...|  G|29.509541|\n",
            "|         Apple Jacks|  K|33.174094|\n",
            "|             Basic 4|  G|37.038562|\n",
            "|           Bran Chex|  R|49.120253|\n",
            "|         Bran Flakes|  P|53.313813|\n",
            "|        Cap'n'Crunch|  Q|18.042851|\n",
            "|            Cheerios|  G|50.764999|\n",
            "|Cinnamon Toast Cr...|  G|19.823573|\n",
            "|            Clusters|  G|40.400208|\n",
            "|         Cocoa Puffs|  G|22.736446|\n",
            "|           Corn Chex|  R|41.445019|\n",
            "|         Corn Flakes|  K|45.863324|\n",
            "|           Corn Pops|  K|35.782791|\n",
            "|       Count Chocula|  G|22.396513|\n",
            "|  Cracklin' Oat Bran|  K|40.448772|\n",
            "+--------------------+---+---------+\n",
            "only showing top 20 rows\n",
            "\n"
          ]
        }
      ],
      "source": [
        "# Seleciona as colunas que serão exibidas\n",
        "df.select('name', 'mfr', 'rating').show()"
      ]
    },
    {
      "cell_type": "markdown",
      "metadata": {
        "id": "EYMjddbE4rKW"
      },
      "source": [
        "## `withColumn()`"
      ]
    },
    {
      "cell_type": "code",
      "execution_count": 6,
      "metadata": {
        "colab": {
          "base_uri": "https://localhost:8080/"
        },
        "id": "5vt6Ya824hL3",
        "outputId": "59bfaea1-0a74-48c9-e3a7-d81dd3fb1d40"
      },
      "outputs": [
        {
          "name": "stdout",
          "output_type": "stream",
          "text": [
            "root\n",
            " |-- name: string (nullable = true)\n",
            " |-- mfr: string (nullable = true)\n",
            " |-- type: string (nullable = true)\n",
            " |-- Calories: integer (nullable = true)\n",
            " |-- protein: integer (nullable = true)\n",
            " |-- fat: integer (nullable = true)\n",
            " |-- sodium: integer (nullable = true)\n",
            " |-- fiber: double (nullable = true)\n",
            " |-- carbo: double (nullable = true)\n",
            " |-- sugars: integer (nullable = true)\n",
            " |-- potass: integer (nullable = true)\n",
            " |-- vitamins: integer (nullable = true)\n",
            " |-- shelf: integer (nullable = true)\n",
            " |-- weight: double (nullable = true)\n",
            " |-- cups: double (nullable = true)\n",
            " |-- rating: double (nullable = true)\n",
            "\n"
          ]
        }
      ],
      "source": [
        "# renomeia a coluna Colories para clories\n",
        "df.withColumn('Calories', df['calories'].cast('Integer')).printSchema()"
      ]
    },
    {
      "cell_type": "markdown",
      "metadata": {
        "id": "iSqLkmzl5LXz"
      },
      "source": [
        "## `groupBy()`"
      ]
    },
    {
      "cell_type": "code",
      "execution_count": 7,
      "metadata": {
        "colab": {
          "base_uri": "https://localhost:8080/"
        },
        "id": "0xcAbV7i43nW",
        "outputId": "ec39d752-0775-4ca5-98e7-86f1ff79860e"
      },
      "outputs": [
        {
          "name": "stdout",
          "output_type": "stream",
          "text": [
            "+--------------------+--------+-----+\n",
            "|                name|calories|count|\n",
            "+--------------------+--------+-----+\n",
            "|Just Right Fruit ...|     140|    1|\n",
            "|         Raisin Bran|     120|    1|\n",
            "|Shredded Wheat sp...|      90|    1|\n",
            "|           Corn Pops|     110|    1|\n",
            "|  Honey Nut Cheerios|     110|    1|\n",
            "|Muesli Raisins; D...|     150|    1|\n",
            "|      Fruity Pebbles|     110|    1|\n",
            "|           100% Bran|      70|    1|\n",
            "|       Fruitful Bran|     120|    1|\n",
            "|         Puffed Rice|      50|    1|\n",
            "|      Raisin Squares|      90|    1|\n",
            "|   Total Raisin Bran|     140|    1|\n",
            "|      Golden Grahams|     110|    1|\n",
            "|   Nutri-grain Wheat|      90|    1|\n",
            "|   100% Natural Bran|     120|    1|\n",
            "|Apple Cinnamon Ch...|     110|    1|\n",
            "|Mueslix Crispy Blend|     160|    1|\n",
            "|Shredded Wheat 'n...|      90|    1|\n",
            "|              Smacks|     110|    1|\n",
            "|      Quaker Oatmeal|     100|    1|\n",
            "+--------------------+--------+-----+\n",
            "only showing top 20 rows\n",
            "\n"
          ]
        }
      ],
      "source": [
        "df.groupBy('name', 'calories').count().show()"
      ]
    },
    {
      "cell_type": "markdown",
      "metadata": {
        "id": "0ZwfR_5a5jhm"
      },
      "source": [
        "## `orderBy()`"
      ]
    },
    {
      "cell_type": "code",
      "execution_count": 10,
      "metadata": {
        "colab": {
          "base_uri": "https://localhost:8080/"
        },
        "id": "gcG-1S1R5UAK",
        "outputId": "070c467c-6fa9-49e7-fca2-136753198df4"
      },
      "outputs": [
        {
          "name": "stdout",
          "output_type": "stream",
          "text": [
            "+--------------------+---+----+--------+-------+---+------+-----+-----+------+------+--------+-----+------+----+---------+\n",
            "|                name|mfr|type|calories|protein|fat|sodium|fiber|carbo|sugars|potass|vitamins|shelf|weight|cups|   rating|\n",
            "+--------------------+---+----+--------+-------+---+------+-----+-----+------+------+--------+-----+------+----+---------+\n",
            "|        Cap'n'Crunch|  Q|   C|     120|      1|  2|   220|  0.0| 12.0|    12|    35|      25|    2|   1.0|0.75|18.042851|\n",
            "|Cinnamon Toast Cr...|  G|   C|     120|      1|  3|   210|  0.0| 13.0|     9|    45|      25|    2|   1.0|0.75|19.823573|\n",
            "|         Cocoa Puffs|  G|   C|     110|      1|  1|   180|  0.0| 12.0|    13|    55|      25|    2|   1.0| 1.0|22.736446|\n",
            "|           Corn Pops|  K|   C|     110|      1|  0|    90|  1.0| 13.0|    12|    20|      25|    2|   1.0| 1.0|35.782791|\n",
            "|       Count Chocula|  G|   C|     110|      1|  1|   180|  0.0| 12.0|    13|    65|      25|    2|   1.0| 1.0|22.396513|\n",
            "|      Frosted Flakes|  K|   C|     110|      1|  0|   200|  1.0| 14.0|    11|    25|      25|    1|   1.0|0.75|31.435973|\n",
            "|      Fruity Pebbles|  P|   C|     110|      1|  1|   135|  0.0| 13.0|    12|    25|      25|    2|   1.0|0.75|28.025765|\n",
            "|      Golden Grahams|  G|   C|     110|      1|  1|   280|  0.0| 15.0|     9|    45|      25|    2|   1.0|0.75|23.804043|\n",
            "|    Honey Graham Ohs|  Q|   C|     120|      1|  2|   220|  1.0| 12.0|    11|    45|      25|    2|   1.0| 1.0|21.871292|\n",
            "|          Honey-comb|  P|   C|     110|      1|  0|   180|  0.0| 14.0|    11|    35|      25|    1|   1.0|1.33|28.742414|\n",
            "|         Puffed Rice|  Q|   C|      50|      1|  0|     0|  0.0| 13.0|     0|    15|       0|    3|   0.5| 1.0|60.756112|\n",
            "|           Rice Chex|  R|   C|     110|      1|  0|   240|  0.0| 23.0|     2|    30|      25|    1|   1.0|1.13|41.998933|\n",
            "|                Trix|  G|   C|     110|      1|  1|   140|  0.0| 13.0|    12|    25|      25|    2|   1.0| 1.0|27.753301|\n",
            "|         Froot Loops|  K|   C|     110|      2|  1|   125|  1.0| 11.0|    13|    30|      25|    2|   1.0| 1.0|32.207582|\n",
            "|Apple Cinnamon Ch...|  G|   C|     110|      2|  2|   180|  1.5| 10.5|    10|    70|      25|    1|   1.0|0.75|29.509541|\n",
            "|             Crispix|  K|   C|     110|      2|  0|   220|  1.0| 21.0|     3|    30|      25|    3|   1.0| 1.0|46.895644|\n",
            "|         Apple Jacks|  K|   C|     110|      2|  0|   125|  1.0| 11.0|    14|    30|      25|    2|   1.0| 1.0|33.174094|\n",
            "|         Corn Flakes|  K|   C|     100|      2|  0|   290|  1.0| 21.0|     2|    35|      25|    1|   1.0| 1.0|45.863324|\n",
            "|        Golden Crisp|  P|   C|     100|      2|  0|    45|  0.0| 11.0|    15|    40|      25|    1|   1.0|0.88|35.252444|\n",
            "|Crispy Wheat & Ra...|  G|   C|     100|      2|  1|   140|  2.0| 11.0|    10|   120|      25|    3|   1.0|0.75|36.176196|\n",
            "+--------------------+---+----+--------+-------+---+------+-----+-----+------+------+--------+-----+------+----+---------+\n",
            "only showing top 20 rows\n",
            "\n"
          ]
        }
      ],
      "source": [
        "df.orderBy('protein').show()"
      ]
    },
    {
      "cell_type": "markdown",
      "metadata": {
        "id": "r7yHjgMm5-KX"
      },
      "source": [
        "## Case When"
      ]
    },
    {
      "cell_type": "code",
      "execution_count": 12,
      "metadata": {
        "id": "z9zFyVxA5_PP"
      },
      "outputs": [],
      "source": [
        "from pyspark.sql.functions import when"
      ]
    },
    {
      "cell_type": "code",
      "execution_count": 15,
      "metadata": {
        "colab": {
          "base_uri": "https://localhost:8080/"
        },
        "id": "pLsbI9R06CAz",
        "outputId": "e86a85d0-c620-49c1-80bb-8183506076f3"
      },
      "outputs": [
        {
          "name": "stdout",
          "output_type": "stream",
          "text": [
            "+--------------------+--------+----------------------------------------------------+\n",
            "|                name|vitamins|CASE WHEN (vitamins >= 25) THEN rich in vitamins END|\n",
            "+--------------------+--------+----------------------------------------------------+\n",
            "|           100% Bran|      25|                                    rich in vitamins|\n",
            "|   100% Natural Bran|       0|                                                NULL|\n",
            "|            All-Bran|      25|                                    rich in vitamins|\n",
            "|All-Bran with Ext...|      25|                                    rich in vitamins|\n",
            "|      Almond Delight|      25|                                    rich in vitamins|\n",
            "|Apple Cinnamon Ch...|      25|                                    rich in vitamins|\n",
            "|         Apple Jacks|      25|                                    rich in vitamins|\n",
            "|             Basic 4|      25|                                    rich in vitamins|\n",
            "|           Bran Chex|      25|                                    rich in vitamins|\n",
            "|         Bran Flakes|      25|                                    rich in vitamins|\n",
            "|        Cap'n'Crunch|      25|                                    rich in vitamins|\n",
            "|            Cheerios|      25|                                    rich in vitamins|\n",
            "|Cinnamon Toast Cr...|      25|                                    rich in vitamins|\n",
            "|            Clusters|      25|                                    rich in vitamins|\n",
            "|         Cocoa Puffs|      25|                                    rich in vitamins|\n",
            "|           Corn Chex|      25|                                    rich in vitamins|\n",
            "|         Corn Flakes|      25|                                    rich in vitamins|\n",
            "|           Corn Pops|      25|                                    rich in vitamins|\n",
            "|       Count Chocula|      25|                                    rich in vitamins|\n",
            "|  Cracklin' Oat Bran|      25|                                    rich in vitamins|\n",
            "|Cream of Wheat (Q...|       0|                                                NULL|\n",
            "|             Crispix|      25|                                    rich in vitamins|\n",
            "|Crispy Wheat & Ra...|      25|                                    rich in vitamins|\n",
            "|         Double Chex|      25|                                    rich in vitamins|\n",
            "|         Froot Loops|      25|                                    rich in vitamins|\n",
            "|      Frosted Flakes|      25|                                    rich in vitamins|\n",
            "| Frosted Mini-Wheats|      25|                                    rich in vitamins|\n",
            "|Fruit & Fibre Dat...|      25|                                    rich in vitamins|\n",
            "|       Fruitful Bran|      25|                                    rich in vitamins|\n",
            "|      Fruity Pebbles|      25|                                    rich in vitamins|\n",
            "|        Golden Crisp|      25|                                    rich in vitamins|\n",
            "|      Golden Grahams|      25|                                    rich in vitamins|\n",
            "|   Grape Nuts Flakes|      25|                                    rich in vitamins|\n",
            "|          Grape-Nuts|      25|                                    rich in vitamins|\n",
            "|  Great Grains Pecan|      25|                                    rich in vitamins|\n",
            "|    Honey Graham Ohs|      25|                                    rich in vitamins|\n",
            "|  Honey Nut Cheerios|      25|                                    rich in vitamins|\n",
            "|          Honey-comb|      25|                                    rich in vitamins|\n",
            "|Just Right Crunch...|     100|                                    rich in vitamins|\n",
            "|Just Right Fruit ...|     100|                                    rich in vitamins|\n",
            "|                 Kix|      25|                                    rich in vitamins|\n",
            "|                Life|      25|                                    rich in vitamins|\n",
            "|        Lucky Charms|      25|                                    rich in vitamins|\n",
            "|               Maypo|      25|                                    rich in vitamins|\n",
            "|Muesli Raisins; D...|      25|                                    rich in vitamins|\n",
            "|Muesli Raisins; P...|      25|                                    rich in vitamins|\n",
            "|Mueslix Crispy Blend|      25|                                    rich in vitamins|\n",
            "|Multi-Grain Cheerios|      25|                                    rich in vitamins|\n",
            "|    Nut&Honey Crunch|      25|                                    rich in vitamins|\n",
            "|Nutri-Grain Almon...|      25|                                    rich in vitamins|\n",
            "+--------------------+--------+----------------------------------------------------+\n",
            "only showing top 50 rows\n",
            "\n"
          ]
        }
      ],
      "source": [
        "df.select('name', df.vitamins, when(df.vitamins >= '25', 'rich in vitamins')).show(50)"
      ]
    },
    {
      "cell_type": "markdown",
      "metadata": {
        "id": "rv2XJsz96bCw"
      },
      "source": [
        "## filter()"
      ]
    },
    {
      "cell_type": "code",
      "execution_count": 18,
      "metadata": {
        "colab": {
          "base_uri": "https://localhost:8080/"
        },
        "id": "pc9Y5aXC6LK2",
        "outputId": "275de0cc-adb1-4310-fb11-c6b17a258066"
      },
      "outputs": [
        {
          "name": "stdout",
          "output_type": "stream",
          "text": [
            "+--------------------+---+----+--------+-------+---+------+-----+-----+------+------+--------+-----+------+----+---------+\n",
            "|                name|mfr|type|calories|protein|fat|sodium|fiber|carbo|sugars|potass|vitamins|shelf|weight|cups|   rating|\n",
            "+--------------------+---+----+--------+-------+---+------+-----+-----+------+------+--------+-----+------+----+---------+\n",
            "|         Corn Flakes|  K|   C|     100|      2|  0|   290|  1.0| 21.0|     2|    35|      25|    1|   1.0| 1.0|45.863324|\n",
            "|Cream of Wheat (Q...|  N|   H|     100|      3|  0|    80|  1.0| 21.0|     0|    -1|       0|    2|   1.0| 1.0|64.533816|\n",
            "|Crispy Wheat & Ra...|  G|   C|     100|      2|  1|   140|  2.0| 11.0|    10|   120|      25|    3|   1.0|0.75|36.176196|\n",
            "|         Double Chex|  R|   C|     100|      2|  0|   190|  1.0| 18.0|     5|    80|      25|    3|   1.0|0.75|44.330856|\n",
            "| Frosted Mini-Wheats|  K|   C|     100|      3|  0|     0|  3.0| 14.0|     7|   100|      25|    2|   1.0| 0.8|58.345141|\n",
            "|        Golden Crisp|  P|   C|     100|      2|  0|    45|  0.0| 11.0|    15|    40|      25|    1|   1.0|0.88|35.252444|\n",
            "|   Grape Nuts Flakes|  P|   C|     100|      3|  1|   140|  3.0| 15.0|     5|    85|      25|    3|   1.0|0.88|52.076897|\n",
            "|                Life|  Q|   C|     100|      4|  2|   150|  2.0| 12.0|     6|    95|      25|    2|   1.0|0.67|45.328074|\n",
            "|               Maypo|  A|   H|     100|      4|  1|     0|  0.0| 16.0|     3|    95|      25|    2|   1.0| 1.0|54.850917|\n",
            "|Multi-Grain Cheerios|  G|   C|     100|      2|  1|   220|  2.0| 15.0|     6|    90|      25|    1|   1.0| 1.0|40.105965|\n",
            "|          Product 19|  K|   C|     100|      3|  0|   320|  1.0| 20.0|     3|    45|     100|    3|   1.0| 1.0| 41.50354|\n",
            "|  Quaker Oat Squares|  Q|   C|     100|      4|  1|   135|  2.0| 14.0|     6|   110|      25|    3|   1.0| 0.5|49.511874|\n",
            "|      Quaker Oatmeal|  Q|   H|     100|      5|  2|     0|  2.7| -1.0|    -1|   110|       0|    1|   1.0|0.67|50.828392|\n",
            "|     Raisin Nut Bran|  G|   C|     100|      3|  2|   140|  2.5| 10.5|     8|   140|      25|    3|   1.0| 0.5|  39.7034|\n",
            "|   Total Whole Grain|  G|   C|     100|      3|  1|   200|  3.0| 16.0|     3|   110|     100|    3|   1.0| 1.0|46.658844|\n",
            "|          Wheat Chex|  R|   C|     100|      3|  1|   230|  3.0| 17.0|     3|   115|      25|    1|   1.0|0.67|49.787445|\n",
            "|            Wheaties|  G|   C|     100|      3|  1|   200|  3.0| 17.0|     3|   110|      25|    1|   1.0| 1.0|51.592193|\n",
            "+--------------------+---+----+--------+-------+---+------+-----+-----+------+------+--------+-----+------+----+---------+\n",
            "\n"
          ]
        }
      ],
      "source": [
        "df.filter(df.calories == '100').show()"
      ]
    },
    {
      "cell_type": "markdown",
      "metadata": {
        "id": "E1D4CIlY6rAY"
      },
      "source": [
        "## `isNull()` / `isNotNull()`"
      ]
    },
    {
      "cell_type": "code",
      "execution_count": 19,
      "metadata": {
        "id": "LJf8fDsk6fna"
      },
      "outputs": [],
      "source": [
        "from pyspark.sql.functions import *"
      ]
    },
    {
      "cell_type": "code",
      "execution_count": 20,
      "metadata": {
        "colab": {
          "base_uri": "https://localhost:8080/"
        },
        "id": "JQpdeAz363Ck",
        "outputId": "e6909ba9-eb8b-42a5-ddbf-636b376b5a36"
      },
      "outputs": [
        {
          "name": "stdout",
          "output_type": "stream",
          "text": [
            "+--------------------+---+----+--------+-------+---+------+-----+-----+------+------+--------+-----+------+----+---------+\n",
            "|                name|mfr|type|calories|protein|fat|sodium|fiber|carbo|sugars|potass|vitamins|shelf|weight|cups|   rating|\n",
            "+--------------------+---+----+--------+-------+---+------+-----+-----+------+------+--------+-----+------+----+---------+\n",
            "|           100% Bran|  N|   C|      70|      4|  1|   130| 10.0|  5.0|     6|   280|      25|    3|   1.0|0.33|68.402973|\n",
            "|   100% Natural Bran|  Q|   C|     120|      3|  5|    15|  2.0|  8.0|     8|   135|       0|    3|   1.0| 1.0|33.983679|\n",
            "|            All-Bran|  K|   C|      70|      4|  1|   260|  9.0|  7.0|     5|   320|      25|    3|   1.0|0.33|59.425505|\n",
            "|All-Bran with Ext...|  K|   C|      50|      4|  0|   140| 14.0|  8.0|     0|   330|      25|    3|   1.0| 0.5|93.704912|\n",
            "|      Almond Delight|  R|   C|     110|      2|  2|   200|  1.0| 14.0|     8|    -1|      25|    3|   1.0|0.75|34.384843|\n",
            "|Apple Cinnamon Ch...|  G|   C|     110|      2|  2|   180|  1.5| 10.5|    10|    70|      25|    1|   1.0|0.75|29.509541|\n",
            "|         Apple Jacks|  K|   C|     110|      2|  0|   125|  1.0| 11.0|    14|    30|      25|    2|   1.0| 1.0|33.174094|\n",
            "|             Basic 4|  G|   C|     130|      3|  2|   210|  2.0| 18.0|     8|   100|      25|    3|  1.33|0.75|37.038562|\n",
            "|           Bran Chex|  R|   C|      90|      2|  1|   200|  4.0| 15.0|     6|   125|      25|    1|   1.0|0.67|49.120253|\n",
            "|         Bran Flakes|  P|   C|      90|      3|  0|   210|  5.0| 13.0|     5|   190|      25|    3|   1.0|0.67|53.313813|\n",
            "|        Cap'n'Crunch|  Q|   C|     120|      1|  2|   220|  0.0| 12.0|    12|    35|      25|    2|   1.0|0.75|18.042851|\n",
            "|            Cheerios|  G|   C|     110|      6|  2|   290|  2.0| 17.0|     1|   105|      25|    1|   1.0|1.25|50.764999|\n",
            "|Cinnamon Toast Cr...|  G|   C|     120|      1|  3|   210|  0.0| 13.0|     9|    45|      25|    2|   1.0|0.75|19.823573|\n",
            "|            Clusters|  G|   C|     110|      3|  2|   140|  2.0| 13.0|     7|   105|      25|    3|   1.0| 0.5|40.400208|\n",
            "|         Cocoa Puffs|  G|   C|     110|      1|  1|   180|  0.0| 12.0|    13|    55|      25|    2|   1.0| 1.0|22.736446|\n",
            "|           Corn Chex|  R|   C|     110|      2|  0|   280|  0.0| 22.0|     3|    25|      25|    1|   1.0| 1.0|41.445019|\n",
            "|         Corn Flakes|  K|   C|     100|      2|  0|   290|  1.0| 21.0|     2|    35|      25|    1|   1.0| 1.0|45.863324|\n",
            "|           Corn Pops|  K|   C|     110|      1|  0|    90|  1.0| 13.0|    12|    20|      25|    2|   1.0| 1.0|35.782791|\n",
            "|       Count Chocula|  G|   C|     110|      1|  1|   180|  0.0| 12.0|    13|    65|      25|    2|   1.0| 1.0|22.396513|\n",
            "|  Cracklin' Oat Bran|  K|   C|     110|      3|  3|   140|  4.0| 10.0|     7|   160|      25|    3|   1.0| 0.5|40.448772|\n",
            "+--------------------+---+----+--------+-------+---+------+-----+-----+------+------+--------+-----+------+----+---------+\n",
            "only showing top 20 rows\n",
            "\n"
          ]
        }
      ],
      "source": [
        "df.filter(df.name.isNotNull()).show()"
      ]
    },
    {
      "cell_type": "code",
      "execution_count": 21,
      "metadata": {
        "colab": {
          "base_uri": "https://localhost:8080/"
        },
        "id": "VyoELd8h7CcE",
        "outputId": "73ef21c7-bbb2-46b7-eca4-a54a3c0a1bc2"
      },
      "outputs": [
        {
          "name": "stdout",
          "output_type": "stream",
          "text": [
            "+----+---+----+--------+-------+---+------+-----+-----+------+------+--------+-----+------+----+------+\n",
            "|name|mfr|type|calories|protein|fat|sodium|fiber|carbo|sugars|potass|vitamins|shelf|weight|cups|rating|\n",
            "+----+---+----+--------+-------+---+------+-----+-----+------+------+--------+-----+------+----+------+\n",
            "+----+---+----+--------+-------+---+------+-----+-----+------+------+--------+-----+------+----+------+\n",
            "\n"
          ]
        }
      ],
      "source": [
        "df.filter(df.name.isNull()).show()"
      ]
    },
    {
      "cell_type": "code",
      "execution_count": null,
      "metadata": {
        "id": "vJ5-1yTC7HxE"
      },
      "outputs": [],
      "source": []
    }
  ],
  "metadata": {
    "colab": {
      "provenance": []
    },
    "kernelspec": {
      "display_name": "Python 3",
      "name": "python3"
    },
    "language_info": {
      "name": "python",
      "version": "3.11.1"
    }
  },
  "nbformat": 4,
  "nbformat_minor": 0
}
